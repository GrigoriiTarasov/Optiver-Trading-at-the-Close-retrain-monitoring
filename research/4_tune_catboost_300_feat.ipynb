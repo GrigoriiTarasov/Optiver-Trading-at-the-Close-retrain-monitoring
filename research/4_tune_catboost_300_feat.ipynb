{
 "cells": [
  {
   "cell_type": "code",
   "execution_count": null,
   "id": "bc134e5c-1ff1-42e0-8af7-b49db15ad8ef",
   "metadata": {},
   "outputs": [],
   "source": []
  },
  {
   "cell_type": "markdown",
   "id": "79b76f48-32e1-4cfb-8863-e084bffb2488",
   "metadata": {},
   "source": [
    "# Imports"
   ]
  },
  {
   "cell_type": "code",
   "execution_count": 19,
   "id": "37d87f9f-7778-4eee-819b-085e6d510fb3",
   "metadata": {},
   "outputs": [],
   "source": [
    "from catboost import CatBoostRegressor, Pool\n",
    "import joblib\n",
    "import json\n",
    "import mlflow\n",
    "import optuna\n",
    "import pickle\n",
    "from sklearn.metrics import mean_absolute_error\n",
    "import sys"
   ]
  },
  {
   "cell_type": "code",
   "execution_count": 2,
   "id": "f84b22e5-d1d3-4db3-9fca-ab733fb29541",
   "metadata": {},
   "outputs": [],
   "source": [
    "sys.path.append('../src/')\n",
    "import h5_utils\n",
    "from train import drop_target_nan"
   ]
  },
  {
   "cell_type": "markdown",
   "id": "3dcdc02a-a6ee-46b3-9dfe-f4b2fea75db5",
   "metadata": {},
   "source": [
    "# Configs"
   ]
  },
  {
   "cell_type": "code",
   "execution_count": 3,
   "id": "b3cb72bf-c8a0-498d-8e04-1053f1d627e1",
   "metadata": {},
   "outputs": [],
   "source": [
    "settings_path = '../configs/settings.json'\n",
    "with open(settings_path, 'r') as f:\n",
    "    config = json.load(f)"
   ]
  },
  {
   "cell_type": "code",
   "execution_count": 4,
   "id": "c27f663c-8d7c-4b9c-b714-d03e7a571177",
   "metadata": {},
   "outputs": [],
   "source": [
    "folder_daily_h5 = f\"../{config['RAW_DATA_DIR']}/daily/\"\n",
    "\n",
    "metadata_filename = 'metadata.h5'\n",
    "metadata_filepath = f\"../{config['RAW_DATA_DIR']}/{metadata_filename}\""
   ]
  },
  {
   "cell_type": "code",
   "execution_count": 5,
   "id": "9b0b7895-4de1-497c-aa06-4e3a8c5005d8",
   "metadata": {},
   "outputs": [],
   "source": [
    "with open(f\"../{config['MODEL_DIR']}/top_300_feats_nms.pkl\", 'rb') as f:\n",
    "    top_feature_names = pickle.load(f)"
   ]
  },
  {
   "cell_type": "code",
   "execution_count": 17,
   "id": "bb632a50-94bc-4326-b972-01b609525e9d",
   "metadata": {},
   "outputs": [],
   "source": [
    "optuna_selected_feat_filename = 'optuna_selected_300.pkl'\n",
    "optuna_selected_feat_filenpath = f\"../{config['RAW_DATA_DIR']}/{optuna_all_feat_filename}\""
   ]
  },
  {
   "cell_type": "code",
   "execution_count": 6,
   "id": "5ef1f5ae-f79c-414b-9686-f5d53367c8be",
   "metadata": {},
   "outputs": [],
   "source": [
    "# Train test split\n",
    "DAY_TEST_START = 400 # train size in day terms\n",
    "\n",
    "# MlFlow\n",
    "experiment_name = 'optiver_300_features'\n",
    "\n",
    "# features precision\n",
    "REDUCE_TO_FLOAT32 = True # guaranties < 9.3Gb train pool of 300 features "
   ]
  },
  {
   "cell_type": "markdown",
   "id": "ca380b6a-1443-4a35-87c3-16dd1efe5943",
   "metadata": {},
   "source": [
    "# Daily load trick"
   ]
  },
  {
   "cell_type": "code",
   "execution_count": 7,
   "id": "3bbffe13-79db-45b7-a635-7eb5b7e54288",
   "metadata": {},
   "outputs": [
    {
     "data": {
      "text/plain": [
       "481"
      ]
     },
     "execution_count": 7,
     "metadata": {},
     "output_type": "execute_result"
    }
   ],
   "source": [
    "date_ids = h5_utils.load_metadata(metadata_filepath)\n",
    "len(date_ids)"
   ]
  },
  {
   "cell_type": "markdown",
   "id": "28a49868-80d6-4b8a-bfc6-ea6d5525d2a5",
   "metadata": {},
   "source": [
    "# Final optuna on Catboost with selected 300 features"
   ]
  },
  {
   "cell_type": "markdown",
   "id": "cc0b832c-d112-4ef6-b573-88ed6a8a5504",
   "metadata": {},
   "source": [
    "## Trial"
   ]
  },
  {
   "cell_type": "code",
   "execution_count": 8,
   "id": "f4b75961-574c-4c50-a660-7ae32ffc6596",
   "metadata": {},
   "outputs": [],
   "source": [
    "def params_catboost(trial):\n",
    "    \n",
    "    param = {\n",
    "        \"loss_function\" : \"MAE\",\n",
    "        \"eval_metric\" : \"MAE\",\n",
    "        \"iterations\" : 1000,  \n",
    "        \"thread_count\" : -1, \n",
    "        \"random_seed\" : 42,\n",
    "        #\"used_ram_limit\": \"14gb\",\n",
    "        #\"learning_rate\": trial.suggest_float(\"learning_rate\", \n",
    "        #                              0.2, 0.9), # will optimize it later, catboost has good inner mechanism of choice\n",
    "        \"depth\": trial.suggest_int(\"depth\", 5, 10),\n",
    "        \"l2_leaf_reg\": trial.suggest_int(\"l2_leaf_reg\", \n",
    "                                      3, 50),\n",
    "        \"bootstrap_type\": trial.suggest_categorical(\"bootstrap_type\", \n",
    "                             [\"Bayesian\", \"Bernoulli\", \"MVS\"])\n",
    "    }\n",
    "\n",
    "    if param[\"bootstrap_type\"] == \"Bayesian\":\n",
    "        param[\"bagging_temperature\"] = trial.suggest_float(\"bagging_temperature\", \n",
    "                                                 1, 20)\n",
    "        \n",
    "    elif param[\"bootstrap_type\"] == \"Bernoulli\":\n",
    "        param[\"subsample\"] = trial.suggest_float(\"subsample\", \n",
    "                                         0.1, 0.8)\n",
    "    return param"
   ]
  },
  {
   "cell_type": "code",
   "execution_count": 21,
   "id": "90572616-ecf2-4950-9cbc-0912b662b4aa",
   "metadata": {},
   "outputs": [],
   "source": [
    "def fit_model(data_ids, param):\n",
    "    train_data, train_labels = h5_utils.stacked_daily_data(data_ids,\n",
    "                                                           folder_daily_h5,\n",
    "                                                           top_feature_names,\n",
    "                                                           float32=REDUCE_TO_FLOAT32)\n",
    "\n",
    "    train_data, train_labels = drop_target_nan(train_data, \n",
    "                                               train_labels)\n",
    "\n",
    "    data_pool = Pool(train_data, \n",
    "                label=train_labels)\n",
    "\n",
    "    model = CatBoostRegressor(**param)\n",
    "    \n",
    "    model.fit(X=data_pool, verbose=0)\n",
    "\n",
    "    return model"
   ]
  },
  {
   "cell_type": "code",
   "execution_count": 9,
   "id": "22bdad98-0ed1-4830-bd40-0522f3f37c73",
   "metadata": {},
   "outputs": [],
   "source": [
    "def objective(trial):\n",
    "    # CV\n",
    "    train_ids = date_ids[:DAY_TEST_START]\n",
    "    test_ids = date_ids[DAY_TEST_START:]\n",
    "    \n",
    "    param = params_catboost(trial)\n",
    "    # Train\n",
    "    model = fit_model(train_ids, param)\n",
    "    \n",
    "    # Score\n",
    "    ## Load validation data\n",
    "    valid_data, valid_labels = h5_utils.stacked_daily_data(test_ids,\n",
    "                                                           folder_daily_h5,\n",
    "                                                           top_feature_names,\n",
    "                                                           float32=REDUCE_TO_FLOAT32)\n",
    "    ## NaN in target is not scored by the rules\n",
    "    valid_data, valid_labels = drop_target_nan(valid_data, \n",
    "                                               valid_labels)\n",
    "    valid_preds = model.predict(valid_data)\n",
    "    ## Calculate metric\n",
    "    mae = mean_absolute_error(valid_labels, valid_preds)\n",
    "\n",
    "    # MlFLow part\n",
    "    with mlflow.start_run():\n",
    "        mlflow.log_params(param)\n",
    "        mlflow.log_metric(\"mae\", mae)\n",
    "    \n",
    "    return mae"
   ]
  },
  {
   "cell_type": "markdown",
   "id": "58e83d00-52e6-4218-bf57-8b05ec5334d1",
   "metadata": {},
   "source": [
    "## Mlflow"
   ]
  },
  {
   "cell_type": "code",
   "execution_count": 10,
   "id": "688c296b-1d22-4597-851e-e73dfcaea1ff",
   "metadata": {},
   "outputs": [
    {
     "name": "stdout",
     "output_type": "stream",
     "text": [
      "1\n"
     ]
    }
   ],
   "source": [
    "if mlflow.__version__<='1.26.1':\n",
    "    from mlflow.tracking import MlflowClient\n",
    "else:\n",
    "    from mlflow import MlflowClient\n",
    "\n",
    "client = MlflowClient()\n",
    "\n",
    "experiment_info = client.get_experiment_by_name(experiment_name)\n",
    "\n",
    "if experiment_info is None:\n",
    "    mlflow.create_experiment(name=experiment_name) \n",
    "experiment_id = client.get_experiment_by_name(experiment_name).experiment_id\n",
    "print(experiment_id)"
   ]
  },
  {
   "cell_type": "markdown",
   "id": "c248ca41-dfae-44f1-b1a5-c644236736e1",
   "metadata": {},
   "source": [
    "## Search"
   ]
  },
  {
   "cell_type": "code",
   "execution_count": null,
   "id": "c912ada5-34ca-45fc-b827-930d92ea562c",
   "metadata": {
    "scrolled": true
   },
   "outputs": [
    {
     "name": "stderr",
     "output_type": "stream",
     "text": [
      "[I 2024-07-10 07:39:17,192] A new study created in memory with name: no-name-2b0bde28-f357-4dfd-858e-a5a75a6c562a\n",
      "[I 2024-07-10 08:28:12,954] Trial 0 finished with value: 0.6785094677660589 and parameters: {'depth': 10, 'l2_leaf_reg': 20, 'bootstrap_type': 'Bernoulli', 'subsample': 0.27582087672093225}. Best is trial 0 with value: 0.6785094677660589.\n",
      "[I 2024-07-10 08:44:35,567] Trial 1 finished with value: 0.6883500243528615 and parameters: {'depth': 7, 'l2_leaf_reg': 34, 'bootstrap_type': 'Bernoulli', 'subsample': 0.20210913811777667}. Best is trial 0 with value: 0.6785094677660589.\n",
      "[I 2024-07-10 09:24:54,348] Trial 2 finished with value: 0.6726286397902979 and parameters: {'depth': 9, 'l2_leaf_reg': 38, 'bootstrap_type': 'MVS'}. Best is trial 2 with value: 0.6726286397902979.\n"
     ]
    }
   ],
   "source": [
    "%%time\n",
    "\n",
    "hours = 10\n",
    "\n",
    "study = optuna.create_study(direction='minimize',\n",
    "                pruner=optuna.pruners.MedianPruner(n_warmup_steps=5))\n",
    "study.optimize(objective, \n",
    "               n_trials=120,\n",
    "               timeout = 60*60*hours\n",
    "              )\n",
    "print('Number of finished trials:', len(study.trials))\n",
    "print('Best trial:', study.best_trial.params)"
   ]
  },
  {
   "cell_type": "code",
   "execution_count": 14,
   "id": "ee57746e-0216-40c8-813e-e070c6fd0774",
   "metadata": {},
   "outputs": [
    {
     "name": "stdout",
     "output_type": "stream",
     "text": [
      "Best trial: score 0.6693457766093003, params {'depth': 10, 'l2_leaf_reg': 49, 'bootstrap_type': 'MVS'}\n"
     ]
    }
   ],
   "source": [
    "print(\"Best trial: score {}, params {}\".format(study.best_trial.value, \n",
    "\t\t\t\t\t       study.best_trial.params))"
   ]
  },
  {
   "cell_type": "code",
   "execution_count": 15,
   "id": "f3d39911-055e-41bc-a3a0-66f6ab846da2",
   "metadata": {},
   "outputs": [
    {
     "data": {
      "text/plain": [
       "13"
      ]
     },
     "execution_count": 15,
     "metadata": {},
     "output_type": "execute_result"
    }
   ],
   "source": [
    "len(study.trials)"
   ]
  },
  {
   "cell_type": "markdown",
   "id": "5c86eac9-cb93-4dc3-a5d4-ab7c9a90ef6c",
   "metadata": {},
   "source": [
    "## Store study (optional)"
   ]
  },
  {
   "cell_type": "code",
   "execution_count": 20,
   "id": "6354b9f6-15c1-45c3-b385-12ddb69ccdc8",
   "metadata": {},
   "outputs": [
    {
     "data": {
      "text/plain": [
       "['.././data//optuna_selected_300.pkl']"
      ]
     },
     "execution_count": 20,
     "metadata": {},
     "output_type": "execute_result"
    }
   ],
   "source": [
    "joblib.dump(study, optuna_selected_feat_filenpath)"
   ]
  },
  {
   "cell_type": "markdown",
   "id": "56826685-c472-40a4-8807-7f800d96143d",
   "metadata": {},
   "source": [
    "## Store best on selected 300 features for submission initial"
   ]
  },
  {
   "cell_type": "code",
   "execution_count": 25,
   "id": "fbe85e72-be83-470d-8963-a00fb04b4374",
   "metadata": {},
   "outputs": [],
   "source": [
    "data_whole = date_ids\n",
    "best_model = fit_model(data_whole, study.best_trial.params)"
   ]
  },
  {
   "cell_type": "code",
   "execution_count": 26,
   "id": "d4396eac-2a66-4ccd-9bc3-ffc6f9c41880",
   "metadata": {},
   "outputs": [],
   "source": [
    "start_day = date_ids[0]\n",
    "end_day = date_ids[-1]\n",
    "\n",
    "best_model.save_model(f\"../{config['MODEL_DIR']}/catboost_best_daya_{start_day}_{end_day}\",\n",
    "           format=\"cbm\")"
   ]
  },
  {
   "cell_type": "code",
   "execution_count": null,
   "id": "62ff16e6-28e2-496b-b206-72723f331302",
   "metadata": {},
   "outputs": [],
   "source": []
  }
 ],
 "metadata": {
  "kernelspec": {
   "display_name": "Python [conda env:boosting_mle]",
   "language": "python",
   "name": "conda-env-boosting_mle-filprofile"
  },
  "language_info": {
   "codemirror_mode": {
    "name": "ipython",
    "version": 3
   },
   "file_extension": ".py",
   "mimetype": "text/x-python",
   "name": "python",
   "nbconvert_exporter": "python",
   "pygments_lexer": "ipython3",
   "version": "3.11.9"
  }
 },
 "nbformat": 4,
 "nbformat_minor": 5
}
