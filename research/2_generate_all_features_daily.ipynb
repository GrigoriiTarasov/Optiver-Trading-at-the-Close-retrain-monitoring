{
 "cells": [
  {
   "cell_type": "markdown",
   "id": "011374a9-3736-470a-85b6-cece721df3f8",
   "metadata": {},
   "source": [
    "# Imports"
   ]
  },
  {
   "cell_type": "code",
   "execution_count": 1,
   "id": "a3efde87-f55c-487f-95eb-3d85aca21580",
   "metadata": {},
   "outputs": [],
   "source": [
    "import h5py\n",
    "import json\n",
    "import numpy\n",
    "import os\n",
    "import pandas as pd\n",
    "import polars as pl\n",
    "import pickle\n",
    "import sys\n",
    "from tqdm import tqdm"
   ]
  },
  {
   "cell_type": "code",
   "execution_count": 2,
   "id": "66f23ee3-4cb9-49e9-bd41-75ee2bdcf109",
   "metadata": {},
   "outputs": [],
   "source": [
    "sys.path.append('../src/')"
   ]
  },
  {
   "cell_type": "code",
   "execution_count": 3,
   "id": "66aec4c3-d5d6-43e6-9e16-cd1abf279292",
   "metadata": {},
   "outputs": [],
   "source": [
    "import prepare_data\n",
    "import h5_utils"
   ]
  },
  {
   "cell_type": "markdown",
   "id": "24d08b60-3917-49a1-85d9-ae732d980821",
   "metadata": {},
   "source": [
    "# Configs"
   ]
  },
  {
   "cell_type": "code",
   "execution_count": 4,
   "id": "b5769599-9b73-4429-86b7-10559f9b55cc",
   "metadata": {},
   "outputs": [],
   "source": [
    "settings_path = '../configs/settings.json'\n",
    "with open(settings_path, 'r') as f:\n",
    "    config = json.load(f)"
   ]
  },
  {
   "cell_type": "code",
   "execution_count": 5,
   "id": "12be8f00-5538-47d9-ba04-8a49d31ad700",
   "metadata": {},
   "outputs": [],
   "source": [
    "# EDA 3)\n",
    "with open(f\"../{config['MODEL_DIR']}/index_stock_weights.pkl\", \n",
    "          'rb') as f:\n",
    "    index_stock_weights = pickle.load(f)"
   ]
  },
  {
   "cell_type": "code",
   "execution_count": 6,
   "id": "e793f709-3559-4d25-9397-8c221b8bf032",
   "metadata": {},
   "outputs": [],
   "source": [
    "folder_daily_h5 = f\"../{config['RAW_DATA_DIR']}/daily/\"\n",
    "metadata_filename = 'metadata.h5'\n",
    "metadata_filepath = f\"../{config['RAW_DATA_DIR']}/{metadata_filename}\""
   ]
  },
  {
   "cell_type": "markdown",
   "id": "d27bb33a-5317-4838-9538-1c12c1be80cd",
   "metadata": {},
   "source": [
    "# Create training clear "
   ]
  },
  {
   "cell_type": "markdown",
   "id": "27ed1599-2bae-43b4-ab67-5e3f8135cb0c",
   "metadata": {},
   "source": [
    "## Read"
   ]
  },
  {
   "cell_type": "code",
   "execution_count": 7,
   "id": "aad22923-7223-4b50-9eea-fd5f83e8b14a",
   "metadata": {
    "scrolled": true
   },
   "outputs": [
    {
     "name": "stdout",
     "output_type": "stream",
     "text": [
      "CPU times: user 8.15 s, sys: 725 ms, total: 8.88 s\n",
      "Wall time: 9.57 s\n"
     ]
    }
   ],
   "source": [
    "%%time\n",
    "df_raw = pd.read_csv(f\"../{config['RAW_DATA_DIR']}/train.csv\")"
   ]
  },
  {
   "cell_type": "code",
   "execution_count": 8,
   "id": "f0f89dd3-d139-446e-afba-aa18c1642788",
   "metadata": {},
   "outputs": [
    {
     "data": {
      "text/plain": [
       "(5237980, 17)"
      ]
     },
     "execution_count": 8,
     "metadata": {},
     "output_type": "execute_result"
    }
   ],
   "source": [
    "df_raw.shape"
   ]
  },
  {
   "cell_type": "code",
   "execution_count": 9,
   "id": "a5c4c049-64e2-4478-9d0c-81890d9d52af",
   "metadata": {},
   "outputs": [
    {
     "data": {
      "text/plain": [
       "Index(['stock_id', 'date_id', 'seconds_in_bucket', 'imbalance_size',\n",
       "       'imbalance_buy_sell_flag', 'reference_price', 'matched_size',\n",
       "       'far_price', 'near_price', 'bid_price', 'bid_size', 'ask_price',\n",
       "       'ask_size', 'wap', 'target', 'time_id', 'row_id'],\n",
       "      dtype='object')"
      ]
     },
     "execution_count": 9,
     "metadata": {},
     "output_type": "execute_result"
    }
   ],
   "source": [
    "df_raw.columns"
   ]
  },
  {
   "cell_type": "markdown",
   "id": "7c7b7013-c32e-4411-a3ec-d1977f66c6a2",
   "metadata": {},
   "source": [
    "## Scale sizes"
   ]
  },
  {
   "cell_type": "code",
   "execution_count": 10,
   "id": "bfda1eae-4a2f-4c28-be18-8c91e849e2bd",
   "metadata": {},
   "outputs": [],
   "source": [
    "train = df_raw\n",
    "size_col = ['imbalance_size','matched_size','bid_size','ask_size']"
   ]
  },
  {
   "cell_type": "markdown",
   "id": "dfa68c40-c8de-443d-a9d4-9fcc651634c9",
   "metadata": {},
   "source": [
    "### Dict for inference"
   ]
  },
  {
   "cell_type": "code",
   "execution_count": 11,
   "id": "3d14f591-244b-4bf7-a52d-68bb26d58486",
   "metadata": {},
   "outputs": [],
   "source": [
    "scale_dict = {} # feature -> stock_id -> median\n",
    "for col in size_col:\n",
    "    medians = train.groupby('stock_id')[col].median()\n",
    "    scale_dict[col] = medians.to_dict()"
   ]
  },
  {
   "cell_type": "code",
   "execution_count": 12,
   "id": "a214e32a-af85-47db-8f5e-56283c9e5229",
   "metadata": {},
   "outputs": [],
   "source": [
    "with open(f\"../{config['MODEL_DIR']}/scale_dict.pkl\", 'wb') as f:\n",
    "    pickle.dump(scale_dict, f)"
   ]
  },
  {
   "cell_type": "code",
   "execution_count": 13,
   "id": "08807dde-6218-4620-aeb2-6b08a436164b",
   "metadata": {},
   "outputs": [
    {
     "data": {
      "text/plain": [
       "Index(['stock_id', 'date_id', 'seconds_in_bucket', 'imbalance_size',\n",
       "       'imbalance_buy_sell_flag', 'reference_price', 'matched_size',\n",
       "       'far_price', 'near_price', 'bid_price', 'bid_size', 'ask_price',\n",
       "       'ask_size', 'wap', 'target', 'time_id', 'row_id'],\n",
       "      dtype='object')"
      ]
     },
     "execution_count": 13,
     "metadata": {},
     "output_type": "execute_result"
    }
   ],
   "source": [
    "df_raw.columns"
   ]
  },
  {
   "cell_type": "code",
   "execution_count": 14,
   "id": "323701ea-6e61-48cf-b684-d3b59c522fb6",
   "metadata": {
    "scrolled": true
   },
   "outputs": [
    {
     "name": "stdout",
     "output_type": "stream",
     "text": [
      "CPU times: user 3min 40s, sys: 45.2 s, total: 4min 26s\n",
      "Wall time: 2min 2s\n"
     ]
    }
   ],
   "source": [
    "%%time\n",
    "df, feas_list = prepare_data.generate_features_no_hist_polars(df_raw, \n",
    "                                                   index_stock_weights,\n",
    "                                                   scale_dict)"
   ]
  },
  {
   "cell_type": "code",
   "execution_count": 15,
   "id": "d97a4939-45e2-4760-bbd6-572bee180cd5",
   "metadata": {
    "scrolled": true
   },
   "outputs": [
    {
     "name": "stdout",
     "output_type": "stream",
     "text": [
      "df.shape=(5237980, 447)\n",
      "len(feas_list)=157\n"
     ]
    }
   ],
   "source": [
    "print(f'{df.shape=}')\n",
    "print(f'{len(feas_list)=}')"
   ]
  },
  {
   "cell_type": "markdown",
   "id": "5832e39f-06ba-4e66-ac53-ac50e7c69902",
   "metadata": {},
   "source": [
    "# Record candidate features for all models"
   ]
  },
  {
   "cell_type": "markdown",
   "id": "c0d06cff-142c-457e-a5a7-43e5794948e1",
   "metadata": {},
   "source": [
    "## Daily load trick h5"
   ]
  },
  {
   "cell_type": "markdown",
   "id": "1f4f39cc-2949-43ad-9b72-27f59bf98f84",
   "metadata": {},
   "source": [
    "### Cols separation"
   ]
  },
  {
   "cell_type": "code",
   "execution_count": 16,
   "id": "3163cc1a-74ba-46ae-8d29-2415ac52d1a0",
   "metadata": {},
   "outputs": [],
   "source": [
    "INTEGRITY_COLS = ('time_id', 'row_id')\n",
    "TARGET_COL = 'target'"
   ]
  },
  {
   "cell_type": "code",
   "execution_count": 17,
   "id": "4a409efc-4f0a-4ff5-8854-7dd715103342",
   "metadata": {},
   "outputs": [],
   "source": [
    "h5_writer = h5_utils.WriterWithIntegrity(INTEGRITY_COLS,TARGET_COL)"
   ]
  },
  {
   "cell_type": "code",
   "execution_count": 18,
   "id": "b55c02dd-2560-4462-bb93-d955893edd3f",
   "metadata": {},
   "outputs": [
    {
     "data": {
      "text/plain": [
       "['stock_id',\n",
       " 'seconds_in_bucket',\n",
       " 'imbalance_size',\n",
       " 'imbalance_buy_sell_flag',\n",
       " 'reference_price',\n",
       " 'matched_size',\n",
       " 'far_price',\n",
       " 'near_price',\n",
       " 'bid_price',\n",
       " 'bid_size',\n",
       " 'ask_price',\n",
       " 'ask_size',\n",
       " 'wap']"
      ]
     },
     "execution_count": 18,
     "metadata": {},
     "output_type": "execute_result"
    }
   ],
   "source": [
    "h5_writer.get_train_feats_only(df_raw)"
   ]
  },
  {
   "cell_type": "code",
   "execution_count": 19,
   "id": "bbc003ca-d0ae-42c7-a605-8a2fd4f85ebf",
   "metadata": {},
   "outputs": [
    {
     "data": {
      "text/plain": [
       "'.././data//daily/'"
      ]
     },
     "execution_count": 19,
     "metadata": {},
     "output_type": "execute_result"
    }
   ],
   "source": [
    "if not os.path.exists(folder_daily_h5):\n",
    "    os.mkdir(folder_daily_h5)\n",
    "folder_daily_h5"
   ]
  },
  {
   "cell_type": "markdown",
   "id": "3f7fb19f-34d4-4d12-b6ae-3195963dfc62",
   "metadata": {},
   "source": [
    "### Metadata h5"
   ]
  },
  {
   "cell_type": "code",
   "execution_count": 20,
   "id": "d9aae95e-6d9d-4fb1-ae95-1b5545a7f624",
   "metadata": {},
   "outputs": [],
   "source": [
    "h5_writer.save_metadata(df,\n",
    "              metadata_filepath)"
   ]
  },
  {
   "cell_type": "markdown",
   "id": "91e328d7-53c9-49d9-956f-db1c8c2833a7",
   "metadata": {},
   "source": [
    "### Daily h5"
   ]
  },
  {
   "cell_type": "code",
   "execution_count": 21,
   "id": "26c5e810-fc6b-4d62-a4d5-3a867c9d78fa",
   "metadata": {},
   "outputs": [],
   "source": [
    "all_date_ids = sorted(df['date_id'].unique())"
   ]
  },
  {
   "cell_type": "code",
   "execution_count": 22,
   "id": "22c96773-8393-45a7-8959-afda949f8bbf",
   "metadata": {
    "scrolled": true
   },
   "outputs": [
    {
     "name": "stderr",
     "output_type": "stream",
     "text": [
      "100%|██████████| 481/481 [02:45<00:00,  2.91it/s]\n"
     ]
    }
   ],
   "source": [
    "for date_id in tqdm(all_date_ids):\n",
    "    day_data = df.filter(pl.col('date_id') == date_id)\n",
    "    h5_writer.write_daily_hdf5(day_data, f'{folder_daily_h5}/{date_id}.h5')"
   ]
  },
  {
   "cell_type": "code",
   "execution_count": null,
   "id": "f8f265a5-f0e6-4a99-8471-390e39afd471",
   "metadata": {},
   "outputs": [],
   "source": []
  }
 ],
 "metadata": {
  "kernelspec": {
   "display_name": "Python [conda env:boosting_mle]",
   "language": "python",
   "name": "conda-env-boosting_mle-filprofile"
  },
  "language_info": {
   "codemirror_mode": {
    "name": "ipython",
    "version": 3
   },
   "file_extension": ".py",
   "mimetype": "text/x-python",
   "name": "python",
   "nbconvert_exporter": "python",
   "pygments_lexer": "ipython3",
   "version": "3.11.9"
  }
 },
 "nbformat": 4,
 "nbformat_minor": 5
}
