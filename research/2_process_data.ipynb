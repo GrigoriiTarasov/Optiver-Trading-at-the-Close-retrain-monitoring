{
 "cells": [
  {
   "cell_type": "code",
   "execution_count": 1,
   "id": "24de75ab-cad1-4569-9e3f-3f38f098d9fe",
   "metadata": {},
   "outputs": [],
   "source": [
    "import numpy as np"
   ]
  },
  {
   "cell_type": "markdown",
   "id": "011374a9-3736-470a-85b6-cece721df3f8",
   "metadata": {},
   "source": [
    "# Imports"
   ]
  },
  {
   "cell_type": "code",
   "execution_count": 2,
   "id": "0dc76a6e-7906-432d-bfaf-abde35492cd1",
   "metadata": {},
   "outputs": [],
   "source": [
    "%load_ext filprofiler"
   ]
  },
  {
   "cell_type": "code",
   "execution_count": 3,
   "id": "a3efde87-f55c-487f-95eb-3d85aca21580",
   "metadata": {},
   "outputs": [],
   "source": [
    "import json\n",
    "import numpy\n",
    "import pandas as pd\n",
    "import pickle\n",
    "import sys"
   ]
  },
  {
   "cell_type": "code",
   "execution_count": 4,
   "id": "66f23ee3-4cb9-49e9-bd41-75ee2bdcf109",
   "metadata": {},
   "outputs": [],
   "source": [
    "sys.path.append('../src/')"
   ]
  },
  {
   "cell_type": "code",
   "execution_count": 5,
   "id": "66aec4c3-d5d6-43e6-9e16-cd1abf279292",
   "metadata": {},
   "outputs": [],
   "source": [
    "import prepare_data"
   ]
  },
  {
   "cell_type": "markdown",
   "id": "24d08b60-3917-49a1-85d9-ae732d980821",
   "metadata": {},
   "source": [
    "# Configs"
   ]
  },
  {
   "cell_type": "code",
   "execution_count": 6,
   "id": "b5769599-9b73-4429-86b7-10559f9b55cc",
   "metadata": {},
   "outputs": [],
   "source": [
    "settings_path = '../configs/settings.json'\n",
    "with open(settings_path, 'r') as f:\n",
    "    config = json.load(f)"
   ]
  },
  {
   "cell_type": "code",
   "execution_count": 7,
   "id": "12be8f00-5538-47d9-ba04-8a49d31ad700",
   "metadata": {},
   "outputs": [],
   "source": [
    "# EDA 3)\n",
    "with open(f\"../{config['RAW_DATA_DIR']}/index_stock_weights.pkl\", \n",
    "          'rb') as f:\n",
    "    index_stock_weights = pickle.load(f)"
   ]
  },
  {
   "cell_type": "markdown",
   "id": "d27bb33a-5317-4838-9538-1c12c1be80cd",
   "metadata": {},
   "source": [
    "# Create training clear "
   ]
  },
  {
   "cell_type": "markdown",
   "id": "27ed1599-2bae-43b4-ab67-5e3f8135cb0c",
   "metadata": {},
   "source": [
    "## Read"
   ]
  },
  {
   "cell_type": "code",
   "execution_count": 8,
   "id": "aad22923-7223-4b50-9eea-fd5f83e8b14a",
   "metadata": {
    "scrolled": true
   },
   "outputs": [
    {
     "name": "stdout",
     "output_type": "stream",
     "text": [
      "CPU times: user 8.37 s, sys: 606 ms, total: 8.98 s\n",
      "Wall time: 8.98 s\n"
     ]
    }
   ],
   "source": [
    "%%time\n",
    "df_raw = pd.read_csv(f\"../{config['RAW_DATA_DIR']}/train.csv\")"
   ]
  },
  {
   "cell_type": "markdown",
   "id": "7c7b7013-c32e-4411-a3ec-d1977f66c6a2",
   "metadata": {},
   "source": [
    "## Scale sizes"
   ]
  },
  {
   "cell_type": "code",
   "execution_count": 9,
   "id": "bfda1eae-4a2f-4c28-be18-8c91e849e2bd",
   "metadata": {},
   "outputs": [],
   "source": [
    "train = df_raw\n",
    "size_col = ['imbalance_size','matched_size','bid_size','ask_size']"
   ]
  },
  {
   "cell_type": "markdown",
   "id": "dfa68c40-c8de-443d-a9d4-9fcc651634c9",
   "metadata": {},
   "source": [
    "### Dict for inference"
   ]
  },
  {
   "cell_type": "code",
   "execution_count": 10,
   "id": "3d14f591-244b-4bf7-a52d-68bb26d58486",
   "metadata": {},
   "outputs": [],
   "source": [
    "scale_dict = {} # feature -> stock_id -> median\n",
    "for col in size_col:\n",
    "    medians = train.groupby('stock_id')[col].median()\n",
    "    scale_dict[col] = medians.to_dict()"
   ]
  },
  {
   "cell_type": "code",
   "execution_count": 11,
   "id": "a214e32a-af85-47db-8f5e-56283c9e5229",
   "metadata": {},
   "outputs": [],
   "source": [
    "with open(f\"../{config['RAW_DATA_DIR']}/scale_dict.pkl\", 'wb') as f:\n",
    "    pickle.dump(scale_dict, f)"
   ]
  },
  {
   "cell_type": "code",
   "execution_count": null,
   "id": "23c0b410-c77f-4e5d-bdcc-6165a614e13c",
   "metadata": {},
   "outputs": [],
   "source": []
  },
  {
   "cell_type": "code",
   "execution_count": 12,
   "id": "323701ea-6e61-48cf-b684-d3b59c522fb6",
   "metadata": {
    "scrolled": true
   },
   "outputs": [
    {
     "name": "stdout",
     "output_type": "stream",
     "text": [
      "1\n",
      "2\n",
      "3\n",
      "4\n",
      "5\n",
      "6\n",
      "1 is done\n",
      "3 is done\n",
      "12 is done\n",
      "6 is done\n",
      "7\n",
      "8\n",
      "CPU times: user 3min 14s, sys: 38.7 s, total: 3min 53s\n",
      "Wall time: 1min 41s\n"
     ]
    }
   ],
   "source": [
    "%%time\n",
    "\n",
    "import importlib\n",
    "importlib.reload(prepare_data)\n",
    "\n",
    "df, feas_list = prepare_data.generate_features_no_hist_polars(df_raw, \n",
    "                                                   index_stock_weights,\n",
    "                                                   scale_dict)"
   ]
  },
  {
   "cell_type": "code",
   "execution_count": 13,
   "id": "d97a4939-45e2-4760-bbd6-572bee180cd5",
   "metadata": {},
   "outputs": [
    {
     "name": "stdout",
     "output_type": "stream",
     "text": [
      "df.shape=(5237980, 406)\n",
      "feas_list=['imb1_wap_mid_price', 'imb1_ask_money_bid_money', 'imb1_volume_cont_volumn_auc', 'imb1_reference_price_ask_price', 'imb1_reference_price_mid_price', 'seconds_in_bucket', 'div_flag_imbalance_size_2_balance', 'ask_price', 'imb1_reference_price_bid_price', 'scale_matched_size', 'imb1_near_price_wap', 'volumn_auc_money', 'imb1_far_price_wap', 'bid_size', 'scale_bid_size', 'bid_size_all', 'rolling18_mean_imb1_auc_ask_size_auc_bid_size', 'rolling3_mean_div_flag_imbalance_size_2_balance', 'rolling60_std_div_flag_imbalance_size_2_balance', 'rolling36_mean_flag_imbalance_size', 'rolling3_std_imb1_auc_ask_size_auc_bid_size', 'rolling18_mean_imb1_ask_size_all_bid_size_all', 'rolling6_mean_div_flag_imbalance_size_2_balance', 'rolling6_std_imb1_auc_ask_size_auc_bid_size', 'rolling3_mean_imb1_auc_ask_size_auc_bid_size', 'rolling60_std_imb1_auc_ask_size_auc_bid_size', 'rolling6_std_bid_size_all', 'rolling3_std_bid_size_all', 'rolling3_mean_bid_size_all', 'rolling18_std_bid_auc_money', 'rolling36_mean_bid_auc_money', 'rolling60_mean_imb1_reference_price_wap', 'rolling18_mean_imb1_reference_price_wap', 'rolling3_mean_imb1_reference_price_mid_price', 'imbalance_momentum_unscaled', 'spread_intensity', 'imbalance_momentum', 'ask_price_diff_1', 'ask_price_diff_2', 'ask_price_diff_3', 'ask_price_diff_10', 'bid_price_diff_1', 'bid_price_diff_2', 'bid_price_diff_3', 'bid_price_diff_10', 'imb1_reference_price_near_price_diff_1', 'imb1_reference_price_near_price_diff_2', 'imb1_reference_price_near_price_diff_3', 'imb1_reference_price_near_price_diff_10', 'bid_size_diff_1', 'bid_size_diff_2', 'bid_size_diff_3', 'bid_size_diff_10', 'scale_bid_size_diff_1', 'scale_bid_size_diff_2', 'scale_bid_size_diff_3', 'scale_bid_size_diff_10', 'mid_price_diff_1', 'mid_price_diff_2', 'mid_price_diff_3', 'mid_price_diff_10', 'ask_size_diff_1', 'ask_size_diff_2', 'ask_size_diff_3', 'ask_size_diff_10', 'price_div_ask_bid_diff_1', 'price_div_ask_bid_diff_2', 'price_div_ask_bid_diff_3', 'price_div_ask_bid_diff_10', 'div_bid_size_ask_size_diff_1', 'div_bid_size_ask_size_diff_2', 'div_bid_size_ask_size_diff_3', 'div_bid_size_ask_size_diff_10', 'market_urgency_diff_1', 'market_urgency_diff_2', 'market_urgency_diff_3', 'market_urgency_diff_10', 'wap_diff_1', 'wap_diff_2', 'wap_diff_3', 'wap_diff_10', 'imbalance_momentum_diff_1', 'imbalance_momentum_diff_2', 'imbalance_momentum_diff_3', 'imbalance_momentum_diff_10', 'rolling48_mean_target_mock_shift3', 'rolling48_mean_target_mock_shift1', 'rolling48_mean_target_mock_shift12', 'rolling1_mean_target_mock_shift6', 'rolling24_mean_target_mock_shift6', 'rolling24_mean_target_mock_shift12', 'div_shift6_imb1_auc_ask_size_auc_bid_size', 'diff_shift6_price_pressure_v2', 'shift1_price_pressure_v2', 'div_shift3_flag_imbalance_size', 'div_shift12_imb1_auc_ask_size_auc_bid_size', 'div_shift3_scale_matched_size', 'diff_shift6_flag_imbalance_size', 'shift12_imb1_auc_ask_size_auc_bid_size', 'div_shift12_price_pressure_v2', 'shift6_flag_imbalance_size', 'diff_shift3_imb1_auc_ask_size_auc_bid_size', 'div_shift12_flag_imbalance_size', 'shift12_flag_imbalance_size', 'global_imb1_ask_price_mid_price', 'global_market_urgency', 'global_market_urgency_diff_1', 'global_imb1_ask_money_bid_money', 'global_rolling18_mean_imb1_ask_size_all_bid_size_all', 'global_rolling18_mean_imb1_auc_ask_size_auc_bid_size', 'global_rolling18_mean_imb1_reference_price_wap', 'global_ask_price_diff_3', 'global_diff_shift1_price_pressure_v2', 'global_diff_shift12_scale_matched_size', 'global_diff_shift1_flag_imbalance_size', 'global_imb1_ask_size_bid_size', 'global_imb1_bid_price_mid_price', 'global_rolling48_mean_target_mock_shift6', 'macd_imb1_reference_price_wap_12_24', 'dif_imb1_reference_price_wap_3_6', 'macd_mid_price_near_far_12_24', 'dif_near_price_3_6', 'macd_near_price_24_48', 'dea_imb1_reference_price_wap_12_24', 'macd_near_price_12_24', 'rolling_ewm_24_imb1_reference_price_wap', 'dif_near_price_6_12', 'dea_mid_price_near_far_6_12', 'dea_near_price_24_48', 'rolling_ewm_12_imb1_reference_price_wap', 'dif_imb1_reference_price_wap_12_24', 'rolling_mean_1_target_second', 'rolling_std_1_target_second', 'rolling_mean_2_target_second', 'rolling_std_2_target_second', 'rolling_mean_3_target_second', 'rolling_std_3_target_second', 'rolling_mean_5_target_second', 'rolling_std_5_target_second', 'rolling_mean_10_target_second', 'rolling_std_10_target_second', 'rolling_mean_15_target_second', 'rolling_std_15_target_second', 'rolling_mean_20_target_second', 'rolling_std_20_target_second', 'rolling_mean_25_target_second', 'rolling_std_25_target_second', 'rolling_mean_30_target_second', 'rolling_std_30_target_second', 'rolling_mean_35_target_second', 'rolling_std_35_target_second', 'rolling_mean_40_target_second', 'rolling_std_40_target_second', 'rolling_mean_45_target_second', 'rolling_std_45_target_second', 'rolling_mean_60_target_second', 'rolling_std_60_target_second']\n"
     ]
    }
   ],
   "source": [
    "print(f'{df.shape=}')\n",
    "print(f'{feas_list=}')"
   ]
  },
  {
   "cell_type": "markdown",
   "id": "e8235bbf-c0a4-4805-a073-26d0abf3542b",
   "metadata": {},
   "source": [
    "### Scale without dict"
   ]
  },
  {
   "cell_type": "code",
   "execution_count": null,
   "id": "bb9e73f8-e65d-4683-ae91-8f3823385cf0",
   "metadata": {},
   "outputs": [],
   "source": []
  },
  {
   "cell_type": "code",
   "execution_count": null,
   "id": "d76cd53c-7af3-4b94-9fe9-a6bb02c79b75",
   "metadata": {},
   "outputs": [],
   "source": [
    "for _ in size_col:\n",
    "    train[f\"scale_{_}\"] = train[_] / train.groupby(['stock_id'])[_].transform('median')"
   ]
  },
  {
   "cell_type": "code",
   "execution_count": null,
   "id": "8f1d30ed-7418-40b8-80a7-f44934e83552",
   "metadata": {},
   "outputs": [],
   "source": [
    "df.shape"
   ]
  },
  {
   "cell_type": "code",
   "execution_count": null,
   "id": "f8f265a5-f0e6-4a99-8471-390e39afd471",
   "metadata": {},
   "outputs": [],
   "source": []
  },
  {
   "cell_type": "code",
   "execution_count": null,
   "id": "49f35619-e06d-43aa-9e89-4bdf765125f9",
   "metadata": {},
   "outputs": [],
   "source": []
  }
 ],
 "metadata": {
  "kernelspec": {
   "display_name": "Python [conda env:boosting_mle]",
   "language": "python",
   "name": "conda-env-boosting_mle-filprofile"
  },
  "language_info": {
   "codemirror_mode": {
    "name": "ipython",
    "version": 3
   },
   "file_extension": ".py",
   "mimetype": "text/x-python",
   "name": "python",
   "nbconvert_exporter": "python",
   "pygments_lexer": "ipython3",
   "version": "3.11.9"
  }
 },
 "nbformat": 4,
 "nbformat_minor": 5
}
