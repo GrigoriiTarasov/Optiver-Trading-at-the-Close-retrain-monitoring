{
 "cells": [
  {
   "cell_type": "markdown",
   "id": "011374a9-3736-470a-85b6-cece721df3f8",
   "metadata": {},
   "source": [
    "# Imports"
   ]
  },
  {
   "cell_type": "code",
   "execution_count": 1,
   "id": "a3efde87-f55c-487f-95eb-3d85aca21580",
   "metadata": {},
   "outputs": [],
   "source": [
    "import json\n",
    "import numpy\n",
    "import pandas as pd\n",
    "import pyarrow\n",
    "import pickle\n",
    "import sys"
   ]
  },
  {
   "cell_type": "code",
   "execution_count": 2,
   "id": "66f23ee3-4cb9-49e9-bd41-75ee2bdcf109",
   "metadata": {},
   "outputs": [],
   "source": [
    "sys.path.append('../src/')"
   ]
  },
  {
   "cell_type": "code",
   "execution_count": 3,
   "id": "66aec4c3-d5d6-43e6-9e16-cd1abf279292",
   "metadata": {},
   "outputs": [],
   "source": [
    "import prepare_data"
   ]
  },
  {
   "cell_type": "markdown",
   "id": "24d08b60-3917-49a1-85d9-ae732d980821",
   "metadata": {},
   "source": [
    "# Configs"
   ]
  },
  {
   "cell_type": "code",
   "execution_count": 4,
   "id": "b5769599-9b73-4429-86b7-10559f9b55cc",
   "metadata": {},
   "outputs": [],
   "source": [
    "settings_path = '../configs/settings.json'\n",
    "with open(settings_path, 'r') as f:\n",
    "    config = json.load(f)"
   ]
  },
  {
   "cell_type": "code",
   "execution_count": 5,
   "id": "12be8f00-5538-47d9-ba04-8a49d31ad700",
   "metadata": {},
   "outputs": [],
   "source": [
    "# EDA 3)\n",
    "with open(f\"../{config['RAW_DATA_DIR']}/index_stock_weights.pkl\", \n",
    "          'rb') as f:\n",
    "    index_stock_weights = pickle.load(f)"
   ]
  },
  {
   "cell_type": "markdown",
   "id": "d27bb33a-5317-4838-9538-1c12c1be80cd",
   "metadata": {},
   "source": [
    "# Create training clear "
   ]
  },
  {
   "cell_type": "markdown",
   "id": "27ed1599-2bae-43b4-ab67-5e3f8135cb0c",
   "metadata": {},
   "source": [
    "## Read"
   ]
  },
  {
   "cell_type": "code",
   "execution_count": 6,
   "id": "aad22923-7223-4b50-9eea-fd5f83e8b14a",
   "metadata": {
    "scrolled": true
   },
   "outputs": [
    {
     "name": "stdout",
     "output_type": "stream",
     "text": [
      "CPU times: user 8.39 s, sys: 774 ms, total: 9.16 s\n",
      "Wall time: 9.79 s\n"
     ]
    }
   ],
   "source": [
    "%%time\n",
    "df_raw = pd.read_csv(f\"../{config['RAW_DATA_DIR']}/train.csv\")"
   ]
  },
  {
   "cell_type": "code",
   "execution_count": 7,
   "id": "f0f89dd3-d139-446e-afba-aa18c1642788",
   "metadata": {},
   "outputs": [
    {
     "data": {
      "text/plain": [
       "(5237980, 17)"
      ]
     },
     "execution_count": 7,
     "metadata": {},
     "output_type": "execute_result"
    }
   ],
   "source": [
    "df_raw.shape"
   ]
  },
  {
   "cell_type": "markdown",
   "id": "7c7b7013-c32e-4411-a3ec-d1977f66c6a2",
   "metadata": {},
   "source": [
    "## Scale sizes"
   ]
  },
  {
   "cell_type": "code",
   "execution_count": 8,
   "id": "bfda1eae-4a2f-4c28-be18-8c91e849e2bd",
   "metadata": {},
   "outputs": [],
   "source": [
    "train = df_raw\n",
    "size_col = ['imbalance_size','matched_size','bid_size','ask_size']"
   ]
  },
  {
   "cell_type": "markdown",
   "id": "dfa68c40-c8de-443d-a9d4-9fcc651634c9",
   "metadata": {},
   "source": [
    "### Dict for inference"
   ]
  },
  {
   "cell_type": "code",
   "execution_count": 9,
   "id": "3d14f591-244b-4bf7-a52d-68bb26d58486",
   "metadata": {},
   "outputs": [],
   "source": [
    "scale_dict = {} # feature -> stock_id -> median\n",
    "for col in size_col:\n",
    "    medians = train.groupby('stock_id')[col].median()\n",
    "    scale_dict[col] = medians.to_dict()"
   ]
  },
  {
   "cell_type": "code",
   "execution_count": 10,
   "id": "a214e32a-af85-47db-8f5e-56283c9e5229",
   "metadata": {},
   "outputs": [],
   "source": [
    "with open(f\"../{config['RAW_DATA_DIR']}/scale_dict.pkl\", 'wb') as f:\n",
    "    pickle.dump(scale_dict, f)"
   ]
  },
  {
   "cell_type": "code",
   "execution_count": 11,
   "id": "323701ea-6e61-48cf-b684-d3b59c522fb6",
   "metadata": {
    "scrolled": true
   },
   "outputs": [
    {
     "name": "stdout",
     "output_type": "stream",
     "text": [
      "CPU times: user 3min 15s, sys: 39.9 s, total: 3min 55s\n",
      "Wall time: 1min 53s\n"
     ]
    }
   ],
   "source": [
    "%%time\n",
    "\n",
    "import importlib\n",
    "importlib.reload(prepare_data)\n",
    "\n",
    "df, feas_list = prepare_data.generate_features_no_hist_polars(df_raw, \n",
    "                                                   index_stock_weights,\n",
    "                                                   scale_dict)"
   ]
  },
  {
   "cell_type": "code",
   "execution_count": 12,
   "id": "d97a4939-45e2-4760-bbd6-572bee180cd5",
   "metadata": {
    "scrolled": true
   },
   "outputs": [
    {
     "name": "stdout",
     "output_type": "stream",
     "text": [
      "df.shape=(5237980, 406)\n"
     ]
    }
   ],
   "source": [
    "print(f'{df.shape=}')\n",
    "#print(f'{feas_list=}')"
   ]
  },
  {
   "cell_type": "markdown",
   "id": "5832e39f-06ba-4e66-ac53-ac50e7c69902",
   "metadata": {},
   "source": [
    "# Record candidate features for all models"
   ]
  },
  {
   "cell_type": "code",
   "execution_count": 21,
   "id": "652dc471-0b7e-4d72-b15f-aa733acc8c7f",
   "metadata": {},
   "outputs": [],
   "source": [
    "%%time\n",
    "from pyarrow import parquet as pq\n",
    "\n",
    "pq.write_table(df.to_arrow(), \n",
    "               f\"../{config['RAW_DATA_DIR']}/full_features.parquet.gzip\", \n",
    "               compression='GZIP')"
   ]
  },
  {
   "cell_type": "code",
   "execution_count": null,
   "id": "f8f265a5-f0e6-4a99-8471-390e39afd471",
   "metadata": {},
   "outputs": [],
   "source": []
  }
 ],
 "metadata": {
  "kernelspec": {
   "display_name": "Python [conda env:boosting_mle]",
   "language": "python",
   "name": "conda-env-boosting_mle-filprofile"
  },
  "language_info": {
   "codemirror_mode": {
    "name": "ipython",
    "version": 3
   },
   "file_extension": ".py",
   "mimetype": "text/x-python",
   "name": "python",
   "nbconvert_exporter": "python",
   "pygments_lexer": "ipython3",
   "version": "3.11.9"
  }
 },
 "nbformat": 4,
 "nbformat_minor": 5
}
