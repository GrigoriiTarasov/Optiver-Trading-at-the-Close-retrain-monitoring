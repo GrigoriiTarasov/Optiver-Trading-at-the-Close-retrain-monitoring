{
 "cells": [
  {
   "cell_type": "code",
   "execution_count": null,
   "id": "4368b6ed-d9ce-4dfc-b344-82cd71571830",
   "metadata": {},
   "outputs": [],
   "source": []
  },
  {
   "cell_type": "markdown",
   "id": "8f2b103a-1f09-486a-92f6-47c2eeba97c0",
   "metadata": {},
   "source": [
    "# Imports"
   ]
  },
  {
   "cell_type": "code",
   "execution_count": 5,
   "id": "77e57da0-b4e5-41b3-93b4-96eac24b8d01",
   "metadata": {},
   "outputs": [],
   "source": [
    "from catboost import CatBoostRegressor\n",
    "import h5py\n",
    "import json\n",
    "import mlflow\n",
    "import optuna\n",
    "import pandas as pd\n",
    "import polars as pl\n",
    "from sklearn.metrics import mean_squared_error\n",
    "import sys"
   ]
  },
  {
   "cell_type": "code",
   "execution_count": 6,
   "id": "1959a435-aecb-4c29-9e0e-86f48847fae9",
   "metadata": {},
   "outputs": [],
   "source": [
    "sys.path.append('../src/')"
   ]
  },
  {
   "cell_type": "markdown",
   "id": "17c9699d-8caf-4b7c-8987-e7b7f764da02",
   "metadata": {},
   "source": [
    "# Configs"
   ]
  },
  {
   "cell_type": "code",
   "execution_count": 7,
   "id": "86233d9e-c714-4c4c-aa90-81a8d2dd9e1e",
   "metadata": {},
   "outputs": [],
   "source": [
    "settings_path = '../configs/settings.json'\n",
    "with open(settings_path, 'r') as f:\n",
    "    config = json.load(f)"
   ]
  },
  {
   "cell_type": "markdown",
   "id": "64ed1e11-b015-486f-bf06-899b2e3bbcb7",
   "metadata": {},
   "source": [
    "# Functions"
   ]
  },
  {
   "cell_type": "code",
   "execution_count": 8,
   "id": "834df126-3f6e-4c9b-9f20-16bd9b7ce26e",
   "metadata": {},
   "outputs": [],
   "source": [
    "def write_to_hdf5(df, filename):\n",
    "    with h5py.File(filename, 'w') as f:\n",
    "        for column in df.columns:\n",
    "            f.create_dataset(column, \n",
    "                             data=df[column].to_numpy())\n",
    "\n",
    "def read_hdf5(filename):\n",
    "    with h5py.File(filename, 'r') as f:\n",
    "        data = {key: np.array(f[key]) for key in f.keys()}\n",
    "    return data"
   ]
  },
  {
   "cell_type": "markdown",
   "id": "2ab38e0d-c1d0-4f39-b2b9-4efa723e61b2",
   "metadata": {},
   "source": [
    "# Read all the features"
   ]
  },
  {
   "cell_type": "code",
   "execution_count": 9,
   "id": "b7375617-04ee-465b-8e1b-b5e3b8b44d06",
   "metadata": {},
   "outputs": [],
   "source": [
    "%%time\n",
    "df_polars = pl.read_parquet(f\"../{config['RAW_DATA_DIR']}/full_features.parquet.gzip\")"
   ]
  },
  {
   "cell_type": "code",
   "execution_count": 10,
   "id": "11f5c8d5-0b81-46c0-a4a0-5b91274d1f1b",
   "metadata": {},
   "outputs": [
    {
     "data": {
      "text/plain": [
       "(5237980, 406)"
      ]
     },
     "execution_count": 10,
     "metadata": {},
     "output_type": "execute_result"
    }
   ],
   "source": [
    "df_polars.shape"
   ]
  },
  {
   "cell_type": "markdown",
   "id": "0e129d4c-4625-4e23-b26a-7cdbf50426ee",
   "metadata": {},
   "source": [
    "## Validation split"
   ]
  },
  {
   "cell_type": "code",
   "execution_count": 13,
   "id": "36058f06-bcaa-41e2-ba02-ef6cef40ebd1",
   "metadata": {},
   "outputs": [],
   "source": [
    "train_feas = df_polars.filter(pl.col('date_id') < 390)\n",
    "valid_feas = df_polars.filter(pl.col('date_id') >= 390)"
   ]
  },
  {
   "cell_type": "markdown",
   "id": "7e1b2994-10e1-48d8-884f-dde81847484a",
   "metadata": {},
   "source": []
  },
  {
   "cell_type": "code",
   "execution_count": null,
   "id": "bea018ea-a2bf-432e-b885-8d1fc5ec1ca4",
   "metadata": {},
   "outputs": [],
   "source": [
    "%%time\n",
    "write_to_hdf5(train_feas, '../data/train_feas.h5')"
   ]
  },
  {
   "cell_type": "code",
   "execution_count": null,
   "id": "50ea944c-cf9d-4214-a0bc-5da68377cdea",
   "metadata": {},
   "outputs": [],
   "source": [
    "%%time\n",
    "write_to_hdf5(valid_feas, '../data/valid_feas.h5')"
   ]
  },
  {
   "cell_type": "markdown",
   "id": "70452b9e-21b9-4fad-8527-4ccb96310825",
   "metadata": {},
   "source": [
    "# Intermediate optuna on Catboost for feature selection"
   ]
  },
  {
   "cell_type": "markdown",
   "id": "710a4edf-393d-4baf-bd90-5e141f7c9574",
   "metadata": {},
   "source": [
    "## Trial"
   ]
  },
  {
   "cell_type": "code",
   "execution_count": null,
   "id": "7ed66b73-c131-402b-a1c9-231c65be80a7",
   "metadata": {},
   "outputs": [],
   "source": [
    "def fit_catboost(trial):\n",
    "\n",
    "    param = {\n",
    "        'iterations' : 400, \n",
    "        \"learning_rate\": trial.suggest_float(\"learning_rate\", \n",
    "      0.001, 0.01),\n",
    "        \"l2_leaf_reg\": trial.suggest_int(\"l2_leaf_reg\", \n",
    "      2, 50),\n",
    "        \"colsample_bylevel\": trial.suggest_float(\"colsample_bylevel\", \n",
    "      0.01, 0.8),\n",
    "        \n",
    "        \"depth\": trial.suggest_int(\"depth\", 3, 9),\n",
    "        \n",
    "        \"boosting_type\": trial.suggest_categorical(\"boosting_type\", \n",
    "     [\"Ordered\", \"Plain\"]),\n",
    "        \"bootstrap_type\": trial.suggest_categorical(\"bootstrap_type\", \n",
    "     [\"Bayesian\", \"Bernoulli\", \"MVS\"]),\n",
    "        \"used_ram_limit\": \"14gb\"\n",
    "    }\n",
    "\n",
    "    if param[\"bootstrap_type\"] == \"Bayesian\":\n",
    "        param[\"bagging_temperature\"] = trial.suggest_float(\"bagging_temperature\", \n",
    "     0, 20)\n",
    "        \n",
    "    elif param[\"bootstrap_type\"] == \"Bernoulli\":\n",
    "        param[\"subsample\"] = trial.suggest_float(\"subsample\", \n",
    "     0.1, 1)\n",
    "        \n",
    "\n",
    "    model = CatBoostRegressor(\n",
    "        **param,\n",
    "        thread_count=-1,\n",
    "        random_seed=42\n",
    "    )\n",
    "\n",
    "    model.fit(\n",
    "        X_train,\n",
    "        y_train,\n",
    "        eval_set=(X_val, y_val),\n",
    "        verbose=0,\n",
    "        plot=False,\n",
    "        early_stopping_rounds=50,\n",
    "    )\n",
    "    \n",
    "    preds = model.predict(X_val)\n",
    "    rmse = mean_squared_error(y_val, preds,\n",
    "                              squared=False)\n",
    "    \n",
    "    return rmse"
   ]
  },
  {
   "cell_type": "markdown",
   "id": "17555e8c-320b-4bd3-be38-ddcf831c7e80",
   "metadata": {},
   "source": [
    "## Search"
   ]
  },
  {
   "cell_type": "code",
   "execution_count": null,
   "id": "de015433-5abc-4650-bcb8-425d3616927a",
   "metadata": {},
   "outputs": [],
   "source": [
    "# Read the data from HDF5 files\n",
    "%%time\n",
    "train_data = read_hdf5('../data/train_feas.h5')\n",
    "valid_data = read_hdf5('../data/valid_feas.h5')\n",
    "\n",
    "# Separate features and target\n",
    "X_train = np.column_stack([train_data[col] for col in train_data if col != 'target'])\n",
    "y_train = train_data['target']\n",
    "X_val = np.column_stack([valid_data[col] for col in valid_data if col != 'target'])\n",
    "y_val = valid_data['target']"
   ]
  },
  {
   "cell_type": "code",
   "execution_count": null,
   "id": "f3bc893f-f312-4408-b39d-81e689b2d27c",
   "metadata": {},
   "outputs": [],
   "source": [
    "%%time\n",
    "study = optuna.create_study(direction='minimize')\n",
    "study.optimize(fit_catboost, \n",
    "               n_trials=120,\n",
    "               timeout = 60*60*2\n",
    "              )\n",
    "print('Number of finished trials:', len(study.trials))\n",
    "print('Best trial:', study.best_trial.params)"
   ]
  },
  {
   "cell_type": "code",
   "execution_count": null,
   "id": "08f470e4-70df-43dd-85a9-0eb430871634",
   "metadata": {},
   "outputs": [],
   "source": [
    "optuna.visualization.plot_param_importances(study)"
   ]
  },
  {
   "cell_type": "markdown",
   "id": "188cfa3f-bf9c-4dc4-bdb0-e174232ab6c8",
   "metadata": {},
   "source": [
    "## Selection"
   ]
  },
  {
   "cell_type": "code",
   "execution_count": null,
   "id": "e9a2810f-d3d7-4c75-8507-fc991d3a80ae",
   "metadata": {},
   "outputs": [],
   "source": [
    "importance_df = pd.DataFrame({'feature_importance': model.get_feature_importance(train_pool), \n",
    "              'feature_names': x_val.columns}).sort_values(by=['feature_importance'], \n",
    "                                                           ascending=False)"
   ]
  },
  {
   "cell_type": "code",
   "execution_count": null,
   "id": "046de9b9-4a1a-4531-8281-4ce5b744ae75",
   "metadata": {},
   "outputs": [],
   "source": [
    "importance_df"
   ]
  },
  {
   "cell_type": "markdown",
   "id": "3053c3fd-b25d-435c-ad9b-95181589c900",
   "metadata": {},
   "source": [
    "# Optuna intensive"
   ]
  },
  {
   "cell_type": "code",
   "execution_count": null,
   "id": "b2233581-396e-466e-8678-f749011099c8",
   "metadata": {},
   "outputs": [],
   "source": []
  },
  {
   "cell_type": "code",
   "execution_count": null,
   "id": "eb5b4e5d-dca4-484c-9fb3-09b7343d0b98",
   "metadata": {},
   "outputs": [],
   "source": []
  }
 ],
 "metadata": {
  "kernelspec": {
   "display_name": "Python [conda env:boosting_mle]",
   "language": "python",
   "name": "conda-env-boosting_mle-py"
  },
  "language_info": {
   "codemirror_mode": {
    "name": "ipython",
    "version": 3
   },
   "file_extension": ".py",
   "mimetype": "text/x-python",
   "name": "python",
   "nbconvert_exporter": "python",
   "pygments_lexer": "ipython3",
   "version": "3.11.9"
  }
 },
 "nbformat": 4,
 "nbformat_minor": 5
}
