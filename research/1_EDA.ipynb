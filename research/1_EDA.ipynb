{
 "cells": [
  {
   "cell_type": "code",
   "execution_count": null,
   "id": "8af6490e-276d-4a17-870c-8ec812d62790",
   "metadata": {},
   "outputs": [],
   "source": []
  },
  {
   "cell_type": "markdown",
   "id": "861bb9c8-73a0-4708-af87-ed1d4f9b4399",
   "metadata": {},
   "source": [
    "# Import"
   ]
  },
  {
   "cell_type": "code",
   "execution_count": 1,
   "id": "55775c01-7592-4d8a-8468-2f31f5f90519",
   "metadata": {},
   "outputs": [],
   "source": [
    "import numpy as np\n",
    "import pandas as pd\n",
    "import pickle\n",
    "from sklearn.linear_model import LinearRegression\n",
    "from sklearn.metrics import r2_score\n",
    "import json"
   ]
  },
  {
   "cell_type": "markdown",
   "id": "c090ae2b-c7ba-420e-bade-117a7a123ff6",
   "metadata": {},
   "source": [
    "# Configs"
   ]
  },
  {
   "cell_type": "code",
   "execution_count": 2,
   "id": "8bf922ca-ea69-4679-a73b-c45497bf9cc2",
   "metadata": {},
   "outputs": [],
   "source": [
    "settings_path = '../configs/settings.json'\n",
    "with open(settings_path, 'r') as f:\n",
    "    config = json.load(f)"
   ]
  },
  {
   "cell_type": "markdown",
   "id": "e66cd889-d113-4fa2-9c62-49839352d13e",
   "metadata": {},
   "source": [
    "# Find weights of target_index = Sum_stock_id (weight_id*wap_id)"
   ]
  },
  {
   "cell_type": "code",
   "execution_count": 3,
   "id": "710e146c-a626-4554-ab04-fba99048d645",
   "metadata": {
    "scrolled": true
   },
   "outputs": [
    {
     "name": "stdout",
     "output_type": "stream",
     "text": [
      "CPU times: user 8.26 s, sys: 683 ms, total: 8.94 s\n",
      "Wall time: 9.57 s\n"
     ]
    }
   ],
   "source": [
    "%%time\n",
    "data = pd.read_csv(f\"../{config['RAW_DATA_DIR']}/train.csv\")"
   ]
  },
  {
   "cell_type": "markdown",
   "id": "b68b2afa-3e28-4f6b-ba8e-b054296c390e",
   "metadata": {},
   "source": [
    "### Allocate data"
   ]
  },
  {
   "cell_type": "code",
   "execution_count": 4,
   "id": "779a9762-bf81-4471-81b1-669b491baf3a",
   "metadata": {},
   "outputs": [
    {
     "name": "stdout",
     "output_type": "stream",
     "text": [
      "# stocks         : 200\n",
      "# dates          : 481\n",
      "# updates per day: 55\n",
      "CPU times: user 1min 43s, sys: 141 ms, total: 1min 43s\n",
      "Wall time: 1min 43s\n"
     ]
    }
   ],
   "source": [
    "%%time\n",
    "num_stocks = data[\"stock_id\"].nunique()\n",
    "num_dates = data[\"date_id\"].nunique()\n",
    "num_updates = data[\"seconds_in_bucket\"].nunique()\n",
    "\n",
    "print(f\"# stocks         : {num_stocks}\")\n",
    "print(f\"# dates          : {num_dates}\")\n",
    "print(f\"# updates per day: {num_updates}\")\n",
    "\n",
    "stock_returns = np.zeros((num_stocks, num_dates, num_updates))\n",
    "index_returns = np.zeros((num_stocks, num_dates, num_updates))\n",
    "\n",
    "for (stock_id, date_id), frame in data.groupby([\"stock_id\", \"date_id\"]):\n",
    "    frame[\"stock_return\"] = ((frame[\"wap\"] / frame[\"wap\"].shift(6)).shift(-6) - 1) * 10_000\n",
    "    frame[\"index_return\"] = frame[\"stock_return\"] - frame[\"target\"]\n",
    "\n",
    "    stock_returns[stock_id, date_id] = frame[\"stock_return\"].values\n",
    "    index_returns[stock_id, date_id] = frame[\"index_return\"].values\n",
    "\n",
    "index_return = np.mean(index_returns, axis=0)"
   ]
  },
  {
   "cell_type": "markdown",
   "id": "c680ee70-41c3-47f3-b480-2d2f7639fee1",
   "metadata": {},
   "source": [
    "## Model"
   ]
  },
  {
   "cell_type": "code",
   "execution_count": 5,
   "id": "1fa26a69-8afc-4ef6-b6aa-a71d18797162",
   "metadata": {},
   "outputs": [],
   "source": [
    "l_reg = LinearRegression()"
   ]
  },
  {
   "cell_type": "markdown",
   "id": "b74146e7-c90e-493e-8bcf-9478f0f58944",
   "metadata": {},
   "source": [
    "## Data"
   ]
  },
  {
   "cell_type": "code",
   "execution_count": 6,
   "id": "b36fb632-699b-4849-aa05-7052dc9e6e9b",
   "metadata": {},
   "outputs": [],
   "source": [
    "y = index_return.reshape(-1)\n",
    "X = stock_returns.reshape((num_stocks, -1)).T\n",
    "\n",
    "mask = ~((np.isnan(y) | np.isnan(X).any(axis=1)))\n",
    "X, y = X[mask], y[mask]"
   ]
  },
  {
   "cell_type": "markdown",
   "id": "ace492c0-1f27-40d8-b7fe-78fd975077a1",
   "metadata": {},
   "source": [
    "## Fit and quantify quality"
   ]
  },
  {
   "cell_type": "code",
   "execution_count": 7,
   "id": "09cd6966-7986-4b88-9742-a409576ebc93",
   "metadata": {},
   "outputs": [
    {
     "name": "stdout",
     "output_type": "stream",
     "text": [
      ">>>>>>>>>>>>>>>>>>>>>>>>>>>>>>>>>>>>> Fit >>>>>>>>>>>>>>>>>>>>>>>>>>>>>>>>>>>>>>\n",
      "Intercept: 3.6043735647528496e-06\n",
      "R2: 0.99999999573038\n",
      "Sum of Coef: 0.9999999372522721\n"
     ]
    }
   ],
   "source": [
    "l_reg.fit(X, y)\n",
    "\n",
    "print(\" Fit \".center(80, \">\"))\n",
    "print(\"Intercept:\", l_reg.intercept_)\n",
    "print(\"R2:\", r2_score(y, l_reg.predict(X)))\n",
    "print(\"Sum of Coef:\", l_reg.coef_.sum())"
   ]
  },
  {
   "cell_type": "markdown",
   "id": "95da2f43-b212-435d-b42c-e5b3387beefe",
   "metadata": {},
   "source": [
    "Sum up to 1 means no other assets are in index\n"
   ]
  },
  {
   "cell_type": "markdown",
   "id": "42677c44-b80a-449a-9d1a-a2defb5f0f79",
   "metadata": {},
   "source": [
    "R^2 1 means fully explains\n"
   ]
  },
  {
   "cell_type": "markdown",
   "id": "95dce5d2-70e2-49c8-b850-9fb192165656",
   "metadata": {},
   "source": [
    "## Chck coefs"
   ]
  },
  {
   "cell_type": "code",
   "execution_count": 9,
   "id": "a0d80392-b44d-4957-a59c-0d913dd5941c",
   "metadata": {
    "scrolled": true
   },
   "outputs": [
    {
     "name": "stdout",
     "output_type": "stream",
     "text": [
      "Coef:  [0.004 0.001 0.002 0.006 0.004 0.004 0.002 0.006 0.006 0.002 0.002 0.008\n",
      " 0.006 0.002 0.008 0.006 0.002 0.006 0.004 0.002 0.004 0.001 0.006 0.004\n",
      " 0.002 0.002 0.004 0.002 0.004 0.004 0.001 0.001 0.002 0.002 0.006 0.004\n",
      " 0.004 0.004 0.006 0.002 0.002 0.04  0.002 0.002 0.004 0.04  0.002 0.001\n",
      " 0.006 0.004 0.004 0.006 0.001 0.004 0.004 0.002 0.006 0.004 0.006 0.004\n",
      " 0.006 0.004 0.002 0.001 0.002 0.004 0.002 0.008 0.004 0.004 0.002 0.004\n",
      " 0.006 0.002 0.004 0.004 0.002 0.004 0.004 0.004 0.001 0.002 0.002 0.008\n",
      " 0.02  0.004 0.006 0.002 0.02  0.002 0.002 0.006 0.004 0.002 0.001 0.02\n",
      " 0.006 0.001 0.002 0.004 0.001 0.002 0.006 0.006 0.004 0.006 0.001 0.002\n",
      " 0.004 0.006 0.006 0.001 0.04  0.006 0.002 0.004 0.002 0.002 0.006 0.002\n",
      " 0.002 0.004 0.006 0.006 0.002 0.002 0.008 0.006 0.004 0.002 0.006 0.002\n",
      " 0.004 0.006 0.002 0.004 0.001 0.004 0.002 0.004 0.008 0.006 0.008 0.002\n",
      " 0.004 0.002 0.001 0.004 0.004 0.004 0.006 0.008 0.004 0.001 0.001 0.002\n",
      " 0.006 0.004 0.001 0.002 0.006 0.004 0.006 0.008 0.002 0.002 0.004 0.002\n",
      " 0.04  0.002 0.002 0.004 0.002 0.002 0.006 0.02  0.004 0.002 0.006 0.02\n",
      " 0.001 0.002 0.006 0.004 0.006 0.004 0.004 0.004 0.004 0.002 0.004 0.04\n",
      " 0.002 0.008 0.002 0.004 0.001 0.004 0.006 0.004]\n"
     ]
    }
   ],
   "source": [
    "print(\"Coef: \", l_reg.coef_.round(3))"
   ]
  },
  {
   "cell_type": "code",
   "execution_count": 10,
   "id": "1a6cece8-b8d0-4571-ae30-b6c7f0294944",
   "metadata": {},
   "outputs": [
    {
     "name": "stdout",
     "output_type": "stream",
     "text": [
      "Max coef: 0.040000410425067634\n",
      "Min coef: 0.0009992094870383728\n"
     ]
    }
   ],
   "source": [
    "print(f\"Max coef: {max(l_reg.coef_)}\")\n",
    "print(f\"Min coef: {min(l_reg.coef_)}\")"
   ]
  },
  {
   "cell_type": "code",
   "execution_count": 11,
   "id": "1c44668a-bea0-4bc2-abe8-2d7f57d5e69b",
   "metadata": {},
   "outputs": [],
   "source": [
    "index_stock_weights = l_reg.coef_.round(3)"
   ]
  },
  {
   "cell_type": "markdown",
   "id": "b730dfbc-802e-43f2-be9f-f7a345b15dc8",
   "metadata": {},
   "source": [
    "## Store"
   ]
  },
  {
   "cell_type": "code",
   "execution_count": 12,
   "id": "59379769-aa17-4e56-8332-cc07afd6d5cf",
   "metadata": {},
   "outputs": [],
   "source": [
    "with open(f\"../{config['RAW_DATA_DIR']}/index_stock_weights.pkl\", \n",
    "          'wb') as f:\n",
    "    pickle.dump(index_stock_weights, f, pickle.HIGHEST_PROTOCOL)"
   ]
  },
  {
   "cell_type": "code",
   "execution_count": null,
   "id": "5b71f612-28f5-4f49-a009-c71acd979073",
   "metadata": {},
   "outputs": [],
   "source": []
  }
 ],
 "metadata": {
  "kernelspec": {
   "display_name": "Python [conda env:boosting_mle]",
   "language": "python",
   "name": "conda-env-boosting_mle-py"
  },
  "language_info": {
   "codemirror_mode": {
    "name": "ipython",
    "version": 3
   },
   "file_extension": ".py",
   "mimetype": "text/x-python",
   "name": "python",
   "nbconvert_exporter": "python",
   "pygments_lexer": "ipython3",
   "version": "3.11.9"
  }
 },
 "nbformat": 4,
 "nbformat_minor": 5
}
