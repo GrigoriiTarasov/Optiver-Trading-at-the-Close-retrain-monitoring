{
 "cells": [
  {
   "cell_type": "markdown",
   "id": "8f2b103a-1f09-486a-92f6-47c2eeba97c0",
   "metadata": {},
   "source": [
    "# Imports"
   ]
  },
  {
   "cell_type": "code",
   "execution_count": 41,
   "id": "77e57da0-b4e5-41b3-93b4-96eac24b8d01",
   "metadata": {},
   "outputs": [],
   "source": [
    "from catboost import CatBoostRegressor, EFstrType, Pool, sum_models\n",
    "import gc\n",
    "import h5py\n",
    "import json\n",
    "import joblib\n",
    "import mlflow\n",
    "import numpy as np\n",
    "import optuna\n",
    "import os\n",
    "import pandas as pd\n",
    "import pickle\n",
    "import polars as pl\n",
    "import sys\n",
    "\n",
    "from sklearn.metrics import mean_absolute_error\n",
    "\n",
    "import warnings\n",
    "warnings.filterwarnings(\"ignore\",category=DeprecationWarning)\n",
    "\n",
    "from tqdm import tqdm"
   ]
  },
  {
   "cell_type": "code",
   "execution_count": 2,
   "id": "1959a435-aecb-4c29-9e0e-86f48847fae9",
   "metadata": {},
   "outputs": [],
   "source": [
    "sys.path.append('../src/')\n",
    "import h5_utils"
   ]
  },
  {
   "cell_type": "markdown",
   "id": "17c9699d-8caf-4b7c-8987-e7b7f764da02",
   "metadata": {},
   "source": [
    "# Configs"
   ]
  },
  {
   "cell_type": "code",
   "execution_count": 4,
   "id": "86233d9e-c714-4c4c-aa90-81a8d2dd9e1e",
   "metadata": {},
   "outputs": [],
   "source": [
    "settings_path = '../configs/settings.json'\n",
    "with open(settings_path, 'r') as f:\n",
    "    config = json.load(f)"
   ]
  },
  {
   "cell_type": "code",
   "execution_count": 5,
   "id": "1ec2ef4f-01ae-482f-a987-77b731b29afd",
   "metadata": {},
   "outputs": [],
   "source": [
    "folder_daily_h5 = f\"../{config['RAW_DATA_DIR']}/daily/\"\n",
    "\n",
    "metadata_filename = 'metadata.h5'\n",
    "metadata_filepath = f\"../{config['RAW_DATA_DIR']}/{metadata_filename}\"\n",
    "\n",
    "optuna_all_feat_filename = 'optuna_all_sliding.pkl'\n",
    "optuna_all_feat_filenpath = f\"../{config['RAW_DATA_DIR']}/{optuna_all_feat_filename}\""
   ]
  },
  {
   "cell_type": "code",
   "execution_count": 6,
   "id": "044abed4-f0d0-453f-93ab-c95726f7a9de",
   "metadata": {},
   "outputs": [],
   "source": [
    "DAY_TEST_START = 400 # train size in day terms"
   ]
  },
  {
   "cell_type": "markdown",
   "id": "73c6a905-2d46-45c4-9307-a4b5d0ae127c",
   "metadata": {},
   "source": [
    "# Daily load trick"
   ]
  },
  {
   "cell_type": "code",
   "execution_count": 7,
   "id": "6cc20fe2-e330-43fb-87fe-b0ab472e49ae",
   "metadata": {},
   "outputs": [
    {
     "data": {
      "text/plain": [
       "481"
      ]
     },
     "execution_count": 7,
     "metadata": {},
     "output_type": "execute_result"
    }
   ],
   "source": [
    "date_ids = h5_utils.load_metadata(metadata_filepath)\n",
    "len(date_ids)"
   ]
  },
  {
   "cell_type": "markdown",
   "id": "ab5993bb-1d80-4f4f-a5a0-02553193e938",
   "metadata": {},
   "source": [
    "# Validation splits"
   ]
  },
  {
   "cell_type": "code",
   "execution_count": 8,
   "id": "785c4a9e-06c1-4f48-9982-43eff490834d",
   "metadata": {},
   "outputs": [],
   "source": [
    "max_train_size = 70\n",
    "slide_step= max_train_size\n",
    "n_samples=len(date_ids)"
   ]
  },
  {
   "cell_type": "markdown",
   "id": "0f46495f-fb39-4ed2-bc37-6bb59e90cc81",
   "metadata": {},
   "source": [
    "effective_train_size = max_train_size + gap\n",
    "n_splits = (n_samples - test_size) // (effective_train_size + test_size) + 1\n",
    "print(n_splits)\n",
    "tscv = TimeSeriesSplit(n_splits=n_splits,\n",
    "                max_train_size=max_train_size, \n",
    "                test_size=test_size, \n",
    "                gap=gap)\n"
   ]
  },
  {
   "cell_type": "code",
   "execution_count": 9,
   "id": "18e06c3a-d3a8-4d3b-a62d-c4dc5fd570c6",
   "metadata": {},
   "outputs": [],
   "source": [
    "class SlidingWindowSplit:\n",
    "    def __init__(self, \n",
    "                 data, \n",
    "                 train_days, \n",
    "                 #test_days, \n",
    "                 slide_step=1):\n",
    "        self.data = data\n",
    "        self.train_days = train_days\n",
    "        self.slide_step = slide_step\n",
    "\n",
    "    def __iter__(self):\n",
    "        for i in range(self.train_days, len(self.data) + 1, self.slide_step):\n",
    "            yield np.arange(i - self.train_days, i)\n",
    "\n",
    "    def __len__(self):\n",
    "        return (len(self.data) - self.train_days + 1) // self.slide_step"
   ]
  },
  {
   "cell_type": "code",
   "execution_count": 10,
   "id": "5c4317c3-6ae6-4266-8cf9-0aca2a71d6ba",
   "metadata": {},
   "outputs": [],
   "source": [
    "batch_ids = SlidingWindowSplit(date_ids, \n",
    "                       max_train_size, \n",
    "                       slide_step)"
   ]
  },
  {
   "cell_type": "code",
   "execution_count": 11,
   "id": "5771cb67-a175-40e9-b85f-d32c1bb5dfc0",
   "metadata": {
    "scrolled": true
   },
   "outputs": [
    {
     "name": "stderr",
     "output_type": "stream",
     "text": [
      "Training and Validation: 6it [00:00, 1584.25it/s]             "
     ]
    },
    {
     "name": "stdout",
     "output_type": "stream",
     "text": [
      "Batch 0:\n",
      "  Train: index=[ 0  1  2  3  4  5  6  7  8  9 10 11 12 13 14 15 16 17 18 19 20 21 22 23\n",
      " 24 25 26 27 28 29 30 31 32 33 34 35 36 37 38 39 40 41 42 43 44 45 46 47\n",
      " 48 49 50 51 52 53 54 55 56 57 58 59 60 61 62 63 64 65 66 67 68 69]\n",
      "Batch 1:\n",
      "  Train: index=[ 70  71  72  73  74  75  76  77  78  79  80  81  82  83  84  85  86  87\n",
      "  88  89  90  91  92  93  94  95  96  97  98  99 100 101 102 103 104 105\n",
      " 106 107 108 109 110 111 112 113 114 115 116 117 118 119 120 121 122 123\n",
      " 124 125 126 127 128 129 130 131 132 133 134 135 136 137 138 139]\n",
      "Batch 2:\n",
      "  Train: index=[140 141 142 143 144 145 146 147 148 149 150 151 152 153 154 155 156 157\n",
      " 158 159 160 161 162 163 164 165 166 167 168 169 170 171 172 173 174 175\n",
      " 176 177 178 179 180 181 182 183 184 185 186 187 188 189 190 191 192 193\n",
      " 194 195 196 197 198 199 200 201 202 203 204 205 206 207 208 209]\n",
      "Batch 3:\n",
      "  Train: index=[210 211 212 213 214 215 216 217 218 219 220 221 222 223 224 225 226 227\n",
      " 228 229 230 231 232 233 234 235 236 237 238 239 240 241 242 243 244 245\n",
      " 246 247 248 249 250 251 252 253 254 255 256 257 258 259 260 261 262 263\n",
      " 264 265 266 267 268 269 270 271 272 273 274 275 276 277 278 279]\n",
      "Batch 4:\n",
      "  Train: index=[280 281 282 283 284 285 286 287 288 289 290 291 292 293 294 295 296 297\n",
      " 298 299 300 301 302 303 304 305 306 307 308 309 310 311 312 313 314 315\n",
      " 316 317 318 319 320 321 322 323 324 325 326 327 328 329 330 331 332 333\n",
      " 334 335 336 337 338 339 340 341 342 343 344 345 346 347 348 349]\n",
      "Batch 5:\n",
      "  Train: index=[350 351 352 353 354 355 356 357 358 359 360 361 362 363 364 365 366 367\n",
      " 368 369 370 371 372 373 374 375 376 377 378 379 380 381 382 383 384 385\n",
      " 386 387 388 389 390 391 392 393 394 395 396 397 398 399 400 401 402 403\n",
      " 404 405 406 407 408 409 410 411 412 413 414 415 416 417 418 419]\n"
     ]
    },
    {
     "name": "stderr",
     "output_type": "stream",
     "text": [
      "\n"
     ]
    }
   ],
   "source": [
    "for i, train_index in enumerate(tqdm(batch_ids, \n",
    "                                    desc=\"Training and Validation\")):\n",
    "    \n",
    "    print(f\"Batch {i}:\")\n",
    "    print(f\"  Train: index={train_index}\")"
   ]
  },
  {
   "cell_type": "markdown",
   "id": "0e976889-53b2-48d8-878b-6e21f736627b",
   "metadata": {},
   "source": [
    "# Preprocess"
   ]
  },
  {
   "cell_type": "code",
   "execution_count": 12,
   "id": "d6e7d4f5-da48-4fd9-9dfd-ef8816f002f0",
   "metadata": {},
   "outputs": [],
   "source": [
    "def drop_target_nan(features: np.ndarray,\n",
    "                    target: np.ndarray)-> (np.ndarray, np.ndarray):\n",
    "    \n",
    "    mask = ~np.isnan(target)\n",
    "    \n",
    "    return features[mask], target[mask]"
   ]
  },
  {
   "cell_type": "markdown",
   "id": "70452b9e-21b9-4fad-8527-4ccb96310825",
   "metadata": {},
   "source": [
    "# Intermediate optuna on Catboost for feature selection"
   ]
  },
  {
   "cell_type": "markdown",
   "id": "710a4edf-393d-4baf-bd90-5e141f7c9574",
   "metadata": {},
   "source": [
    "## Trial"
   ]
  },
  {
   "cell_type": "code",
   "execution_count": 13,
   "id": "c09ff967-3976-42cf-af61-93e725d28ba0",
   "metadata": {},
   "outputs": [],
   "source": [
    "def params_catboost(trial):\n",
    "    \n",
    "    param = {\n",
    "        \"loss_function\" : \"MAE\",\n",
    "        \"eval_metric\" : \"MAE\",\n",
    "        \"iterations\" : 1000,  \n",
    "        #\"used_ram_limit\": \"14gb\",\n",
    "        #\"learning_rate\": trial.suggest_float(\"learning_rate\", \n",
    "        #                              0.2, 0.9), # will optimize it later, catboost has good inner mechanism of choice\n",
    "        \"depth\": trial.suggest_int(\"depth\", 5, 10),\n",
    "        \"l2_leaf_reg\": trial.suggest_int(\"l2_leaf_reg\", \n",
    "                                      3, 50),\n",
    "        \"bootstrap_type\": trial.suggest_categorical(\"bootstrap_type\", \n",
    "                             [\"Bayesian\", \"Bernoulli\", \"MVS\"])\n",
    "    }\n",
    "\n",
    "    if param[\"bootstrap_type\"] == \"Bayesian\":\n",
    "        param[\"bagging_temperature\"] = trial.suggest_float(\"bagging_temperature\", \n",
    "                                                 1, 20)\n",
    "        \n",
    "    elif param[\"bootstrap_type\"] == \"Bernoulli\":\n",
    "        param[\"subsample\"] = trial.suggest_float(\"subsample\", \n",
    "                                         0.1, 0.8)\n",
    "    return param"
   ]
  },
  {
   "cell_type": "code",
   "execution_count": 14,
   "id": "7ed66b73-c131-402b-a1c9-231c65be80a7",
   "metadata": {},
   "outputs": [],
   "source": [
    "def batch_learning(param, train_ids):\n",
    "    '''All the data with such number of features can't fit in memory so we will update model by batches learning'''\n",
    "    batches = SlidingWindowSplit(train_ids, \n",
    "                           max_train_size, \n",
    "                           slide_step)\n",
    "\n",
    "    model_prev = None\n",
    "\n",
    "    for batch_ind in tqdm(batches, desc=\"Batch training:\"):\n",
    "        batch_train_days = date_ids[batch_ind]\n",
    "        \n",
    "        # Load training data\n",
    "        train_data, train_labels = h5_utils.stacked_daily_data(batch_train_days,\n",
    "                                                              folder_daily_h5)\n",
    "\n",
    "        # Preprocess\n",
    "        ## Target handle NaNs\n",
    "        train_data, train_labels = drop_target_nan(train_data, \n",
    "                                                   train_labels)\n",
    "\n",
    "        batch = Pool(train_data, \n",
    "                     label=train_labels)\n",
    "\n",
    "        model_new = CatBoostRegressor(**param, thread_count=-1, random_seed=42)\n",
    "        if model_prev is None:\n",
    "            model_new.fit(X=batch, verbose=1)\n",
    "            model_prev = model_new\n",
    "        else:\n",
    "            # https://catboost.ai/en/docs/concepts/python-usages-examples#batch-training\n",
    "            batch.set_baseline(model_prev.predict(batch))\n",
    "            model_new.fit(X=batch, verbose=0)\n",
    "            model_prev = sum_models([model_prev,model_new])\n",
    "        \n",
    "    return model_prev"
   ]
  },
  {
   "cell_type": "code",
   "execution_count": 15,
   "id": "d75b15b2-a03d-4f89-81dc-c2dd8e4634e4",
   "metadata": {},
   "outputs": [],
   "source": [
    "def objective(trial):\n",
    "    # CV\n",
    "    train_ids = date_ids[:DAY_TEST_START]\n",
    "    test_ids = date_ids[DAY_TEST_START:]\n",
    "    \n",
    "    param = params_catboost(trial)\n",
    "    # Train\n",
    "    final_model = batch_learning(param, train_ids)\n",
    "\n",
    "    # Score\n",
    "    ## Load validation data\n",
    "    valid_data, valid_labels = h5_utils.stacked_daily_data(test_ids,\n",
    "                                                          folder_daily_h5)\n",
    "    ## NaN in target is not scored by the rules\n",
    "    valid_data, valid_labels = drop_target_nan(valid_data, \n",
    "                                               valid_labels)\n",
    "    valid_preds = final_model.predict(valid_data)\n",
    "    ## Calculate metric\n",
    "    mae = mean_absolute_error(valid_labels, valid_preds)\n",
    "    return mae"
   ]
  },
  {
   "cell_type": "markdown",
   "id": "17555e8c-320b-4bd3-be38-ddcf831c7e80",
   "metadata": {},
   "source": [
    "## Search"
   ]
  },
  {
   "cell_type": "code",
   "execution_count": null,
   "id": "f3bc893f-f312-4408-b39d-81e689b2d27c",
   "metadata": {
    "scrolled": true
   },
   "outputs": [],
   "source": [
    "%%time\n",
    "\n",
    "hours = 10\n",
    "\n",
    "study = optuna.create_study(direction='minimize',\n",
    "                pruner=optuna.pruners.MedianPruner(n_warmup_steps=5))\n",
    "study.optimize(objective, \n",
    "               n_trials=120,\n",
    "               timeout = 60*60*hours\n",
    "              )\n",
    "print('Number of finished trials:', len(study.trials))\n",
    "print('Best trial:', study.best_trial.params)"
   ]
  },
  {
   "cell_type": "code",
   "execution_count": 20,
   "id": "cf6be73f-7ba7-4166-968b-560b93634363",
   "metadata": {},
   "outputs": [
    {
     "name": "stdout",
     "output_type": "stream",
     "text": [
      "Best trial: score 0.6507658887344581, params {'depth': 5, 'l2_leaf_reg': 18, 'bootstrap_type': 'MVS'}\n"
     ]
    }
   ],
   "source": [
    "print(\"Best trial: score {}, params {}\".format(study.best_trial.value, \n",
    "\t\t\t\t\t       study.best_trial.params))"
   ]
  },
  {
   "cell_type": "code",
   "execution_count": 21,
   "id": "4cf23b37-775e-4e71-b4b2-86a876e19df9",
   "metadata": {},
   "outputs": [
    {
     "data": {
      "text/plain": [
       "2"
      ]
     },
     "execution_count": 21,
     "metadata": {},
     "output_type": "execute_result"
    }
   ],
   "source": [
    "len(study.trials)"
   ]
  },
  {
   "cell_type": "markdown",
   "id": "ab5e8c47-b996-4446-b524-5cf1d0b6e090",
   "metadata": {},
   "source": [
    "## Store study (optional)"
   ]
  },
  {
   "cell_type": "code",
   "execution_count": 20,
   "id": "80b44a60-18ed-4069-8c7d-83a5a45175c7",
   "metadata": {},
   "outputs": [
    {
     "data": {
      "text/plain": [
       "['.././data//optuna_all_sliding.pkl']"
      ]
     },
     "execution_count": 20,
     "metadata": {},
     "output_type": "execute_result"
    }
   ],
   "source": [
    "joblib.dump(study, optuna_all_feat_filenpath)"
   ]
  },
  {
   "cell_type": "markdown",
   "id": "27132162-f84d-4b8d-9f05-0af074d62bc9",
   "metadata": {},
   "source": [
    "## Observe hyper importances"
   ]
  },
  {
   "cell_type": "markdown",
   "id": "2e680a4c-d82f-4c1d-a4e8-f7ae3310e237",
   "metadata": {},
   "source": [
    "optuna.visualization.plot_param_importances(study)"
   ]
  },
  {
   "cell_type": "code",
   "execution_count": null,
   "id": "5cc19280-5c09-4b14-bed3-42aaab62dc79",
   "metadata": {},
   "outputs": [],
   "source": [
    "import matplotlib.pyplot as plt\n",
    "\n",
    "# Get parameter importances\n",
    "param_importances = optuna.importance.get_param_importances(study)\n",
    "\n",
    "# Prepare data for visualization\n",
    "names = list(param_importances.keys())\n",
    "values = list(param_importances.values())\n",
    "\n",
    "# Create bar plot\n",
    "plt.figure(figsize=(10, 5))\n",
    "plt.barh(names, values, color='blue')\n",
    "plt.xlabel('Importance')\n",
    "plt.title('Parameter Importances')\n",
    "plt.gca().invert_yaxis()  # Invert y-axis to display the highest importance at the top\n",
    "plt.show()"
   ]
  },
  {
   "cell_type": "markdown",
   "id": "188cfa3f-bf9c-4dc4-bdb0-e174232ab6c8",
   "metadata": {},
   "source": [
    "# Selection"
   ]
  },
  {
   "cell_type": "markdown",
   "id": "2fd94c80-cb04-4796-a70b-460c26450406",
   "metadata": {},
   "source": [
    "300 features\n",
    "1) exprimentaly can be fited on kaggle as one batch\n",
    "2) can satify time limit to be retrained multiple times during test inference"
   ]
  },
  {
   "cell_type": "markdown",
   "id": "623b74f1-bbd0-4850-958e-ee21d8758894",
   "metadata": {},
   "source": [
    "## Best model fit"
   ]
  },
  {
   "cell_type": "code",
   "execution_count": 27,
   "id": "ff1ea6f6-a5de-4c40-9046-e95e73eb8b02",
   "metadata": {},
   "outputs": [
    {
     "data": {
      "text/plain": [
       "1621"
      ]
     },
     "execution_count": 27,
     "metadata": {},
     "output_type": "execute_result"
    }
   ],
   "source": [
    "gc.collect()"
   ]
  },
  {
   "cell_type": "code",
   "execution_count": null,
   "id": "b64a46de-4a31-49d9-81e3-e63ef75f7d27",
   "metadata": {
    "scrolled": true
   },
   "outputs": [],
   "source": [
    "%%time\n",
    "data_train = date_ids[:DAY_TEST_START]\n",
    "best_model = batch_learning(study.best_trial.params,\n",
    "                            data_train)"
   ]
  },
  {
   "cell_type": "markdown",
   "id": "d04f9a75-9354-4ec0-90b9-93ed8f33f726",
   "metadata": {},
   "source": [
    "## Store best on all features (optional)"
   ]
  },
  {
   "cell_type": "code",
   "execution_count": 34,
   "id": "730e9038-89dc-4231-832b-31443fa52157",
   "metadata": {},
   "outputs": [],
   "source": [
    "best_model.save_model('Batched_all_feats_444',\n",
    "           format=\"cbm\",\n",
    "           export_parameters=None,\n",
    "           pool=None)"
   ]
  },
  {
   "cell_type": "markdown",
   "id": "bc46495a-6a1e-446c-be3c-6bc8731a445b",
   "metadata": {},
   "source": [
    "## Catboost importance approach"
   ]
  },
  {
   "cell_type": "code",
   "execution_count": 29,
   "id": "507a2aa8-9c82-4849-af7d-66541415af4f",
   "metadata": {},
   "outputs": [],
   "source": [
    "feature_importance_catboost2 = best_model.get_feature_importance(type=EFstrType.FeatureImportance, \n",
    "\t\t\t\t   prettified=True, \n",
    "\t\t\t\t   thread_count=-1, \n",
    "\t\t\t\t   verbose=True)"
   ]
  },
  {
   "cell_type": "code",
   "execution_count": 30,
   "id": "5bf7c3a5-23ba-4e5d-96a6-b1f36fa159a2",
   "metadata": {},
   "outputs": [
    {
     "data": {
      "text/html": [
       "<div>\n",
       "<style scoped>\n",
       "    .dataframe tbody tr th:only-of-type {\n",
       "        vertical-align: middle;\n",
       "    }\n",
       "\n",
       "    .dataframe tbody tr th {\n",
       "        vertical-align: top;\n",
       "    }\n",
       "\n",
       "    .dataframe thead th {\n",
       "        text-align: right;\n",
       "    }\n",
       "</style>\n",
       "<table border=\"1\" class=\"dataframe\">\n",
       "  <thead>\n",
       "    <tr style=\"text-align: right;\">\n",
       "      <th></th>\n",
       "      <th>Feature Id</th>\n",
       "      <th>Importances</th>\n",
       "    </tr>\n",
       "  </thead>\n",
       "  <tbody>\n",
       "    <tr>\n",
       "      <th>0</th>\n",
       "      <td>417</td>\n",
       "      <td>54.606904</td>\n",
       "    </tr>\n",
       "    <tr>\n",
       "      <th>1</th>\n",
       "      <td>422</td>\n",
       "      <td>10.900339</td>\n",
       "    </tr>\n",
       "    <tr>\n",
       "      <th>2</th>\n",
       "      <td>442</td>\n",
       "      <td>5.255750</td>\n",
       "    </tr>\n",
       "    <tr>\n",
       "      <th>3</th>\n",
       "      <td>440</td>\n",
       "      <td>5.199438</td>\n",
       "    </tr>\n",
       "    <tr>\n",
       "      <th>4</th>\n",
       "      <td>393</td>\n",
       "      <td>4.570083</td>\n",
       "    </tr>\n",
       "    <tr>\n",
       "      <th>...</th>\n",
       "      <td>...</td>\n",
       "      <td>...</td>\n",
       "    </tr>\n",
       "    <tr>\n",
       "      <th>438</th>\n",
       "      <td>206</td>\n",
       "      <td>0.000007</td>\n",
       "    </tr>\n",
       "    <tr>\n",
       "      <th>439</th>\n",
       "      <td>108</td>\n",
       "      <td>0.000000</td>\n",
       "    </tr>\n",
       "    <tr>\n",
       "      <th>440</th>\n",
       "      <td>111</td>\n",
       "      <td>0.000000</td>\n",
       "    </tr>\n",
       "    <tr>\n",
       "      <th>441</th>\n",
       "      <td>114</td>\n",
       "      <td>0.000000</td>\n",
       "    </tr>\n",
       "    <tr>\n",
       "      <th>442</th>\n",
       "      <td>116</td>\n",
       "      <td>0.000000</td>\n",
       "    </tr>\n",
       "  </tbody>\n",
       "</table>\n",
       "<p>443 rows × 2 columns</p>\n",
       "</div>"
      ],
      "text/plain": [
       "    Feature Id  Importances\n",
       "0          417    54.606904\n",
       "1          422    10.900339\n",
       "2          442     5.255750\n",
       "3          440     5.199438\n",
       "4          393     4.570083\n",
       "..         ...          ...\n",
       "438        206     0.000007\n",
       "439        108     0.000000\n",
       "440        111     0.000000\n",
       "441        114     0.000000\n",
       "442        116     0.000000\n",
       "\n",
       "[443 rows x 2 columns]"
      ]
     },
     "execution_count": 30,
     "metadata": {},
     "output_type": "execute_result"
    }
   ],
   "source": [
    "feature_importance_catboost2"
   ]
  },
  {
   "cell_type": "markdown",
   "id": "2a1fd824-7673-4a55-8883-e5ef73aff67a",
   "metadata": {},
   "source": [
    "## Feature names from h5"
   ]
  },
  {
   "cell_type": "code",
   "execution_count": 31,
   "id": "dcc1149c-b7c3-4c7f-94d8-52f452fe0c09",
   "metadata": {},
   "outputs": [],
   "source": [
    "date_id=date_ids[-1]\n",
    "filepath=f'{folder_daily_h5}/{date_id}.h5'\n",
    "with h5py.File(filepath, 'r') as f:\n",
    "    # Load the target column\n",
    "    target = f['data']['target'][:]\n",
    "\n",
    "    features_group = f['data']['features']\n",
    "    feature_names = list(features_group.keys())"
   ]
  },
  {
   "cell_type": "code",
   "execution_count": 32,
   "id": "362e632f-bc6e-4cda-b0ca-fd22bda8478c",
   "metadata": {
    "scrolled": true
   },
   "outputs": [
    {
     "data": {
      "text/plain": [
       "['ask_auc_money',\n",
       " 'ask_money',\n",
       " 'ask_price',\n",
       " 'ask_price_diff_1',\n",
       " 'ask_price_diff_10']"
      ]
     },
     "execution_count": 32,
     "metadata": {},
     "output_type": "execute_result"
    }
   ],
   "source": [
    "feature_names[:5]"
   ]
  },
  {
   "cell_type": "markdown",
   "id": "cb31c6a9-91bc-44b1-9b34-775901c8dea6",
   "metadata": {},
   "source": [
    "## Bar plot of top n"
   ]
  },
  {
   "cell_type": "code",
   "execution_count": 33,
   "id": "20394561-2600-4ba5-b61d-14235d69d3cb",
   "metadata": {},
   "outputs": [
    {
     "data": {
      "image/png": "[encoded data removed]",
      "text/plain": [
       "<Figure size 1000x1600 with 1 Axes>"
      ]
     },
     "metadata": {},
     "output_type": "display_data"
    }
   ],
   "source": [
    "import matplotlib.pyplot as plt\n",
    "import pandas as pd\n",
    "\n",
    "feature_id_to_name = {str(id): name for id, name in enumerate(feature_names)}\n",
    "\n",
    "feature_importance_catboost2['Feature'] = feature_importance_catboost2['Feature Id'].map(feature_id_to_name)\n",
    "\n",
    "top_n = 10\n",
    "top_features = feature_importance_catboost2.head(top_n)\n",
    "\n",
    "ax = top_features.plot(kind='barh', \n",
    "                       x='Feature', \n",
    "                       y='Importances', \n",
    "                       figsize=(10, 16), \n",
    "                       legend=False)\n",
    "\n",
    "plt.gca().invert_yaxis()\n",
    "\n",
    "plt.title('Feature Importances')\n",
    "plt.xlabel('Importance')\n",
    "plt.ylabel('Feature')\n",
    "plt.show()"
   ]
  },
  {
   "cell_type": "markdown",
   "id": "ab986f6d-7ba1-4ba8-887c-187cc2135b08",
   "metadata": {},
   "source": [
    "Seconds in bucket group is one of the top 10 features"
   ]
  },
  {
   "cell_type": "code",
   "execution_count": 37,
   "id": "666f78bc-c6cc-420d-8e9c-222e5e0d5e98",
   "metadata": {},
   "outputs": [
    {
     "data": {
      "text/plain": [
       "['target_mock',\n",
       " 'target_single',\n",
       " 'weight_tmp',\n",
       " 'wap_shift_n6',\n",
       " 'seconds_in_bucket']"
      ]
     },
     "execution_count": 37,
     "metadata": {},
     "output_type": "execute_result"
    }
   ],
   "source": [
    "top_features = feature_importance_catboost2.head(300)\n",
    "top_feature_names = top_features['Feature'].tolist()\n",
    "\n",
    "top_feature_names[:5]"
   ]
  },
  {
   "cell_type": "code",
   "execution_count": 43,
   "id": "d75cd141-cc22-4558-8147-883350a21671",
   "metadata": {},
   "outputs": [
    {
     "data": {
      "text/plain": [
       "300"
      ]
     },
     "execution_count": 43,
     "metadata": {},
     "output_type": "execute_result"
    }
   ],
   "source": [
    "len(top_feature_names)"
   ]
  },
  {
   "cell_type": "code",
   "execution_count": 42,
   "id": "be2ecb22-cbb1-49ac-8153-63a4aaebd1fd",
   "metadata": {},
   "outputs": [],
   "source": [
    "with open(f\"../{config['RAW_DATA_DIR']}/top_300_feats_nms.pkl\", 'wb') as f:\n",
    "    pickle.dump(top_feature_names, f)"
   ]
  }
 ],
 "metadata": {
  "kernelspec": {
   "display_name": "Python [conda env:boosting_mle]",
   "language": "python",
   "name": "conda-env-boosting_mle-py"
  },
  "language_info": {
   "codemirror_mode": {
    "name": "ipython",
    "version": 3
   },
   "file_extension": ".py",
   "mimetype": "text/x-python",
   "name": "python",
   "nbconvert_exporter": "python",
   "pygments_lexer": "ipython3",
   "version": "3.11.9"
  }
 },
 "nbformat": 4,
 "nbformat_minor": 5
}
