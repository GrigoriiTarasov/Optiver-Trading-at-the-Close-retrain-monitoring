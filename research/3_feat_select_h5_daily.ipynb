{
 "cells": [
  {
   "cell_type": "markdown",
   "id": "8f2b103a-1f09-486a-92f6-47c2eeba97c0",
   "metadata": {},
   "source": [
    "# Imports"
   ]
  },
  {
   "cell_type": "code",
   "execution_count": null,
   "id": "77e57da0-b4e5-41b3-93b4-96eac24b8d01",
   "metadata": {
    "scrolled": true
   },
   "outputs": [],
   "source": [
    "from catboost import CatBoostRegressor, EFstrType, Pool, sum_models\n",
    "import gc\n",
    "import h5py\n",
    "import joblib\n",
    "import json\n",
    "import matplotlib.pyplot as plt\n",
    "import mlflow\n",
    "import numpy as np\n",
    "import optuna\n",
    "import os\n",
    "import pandas as pd\n",
    "import pickle\n",
    "import polars as pl\n",
    "import sys\n",
    "\n",
    "from sklearn.metrics import mean_absolute_error\n",
    "\n",
    "import warnings\n",
    "warnings.filterwarnings(\"ignore\",category=DeprecationWarning)\n",
    "\n",
    "from tqdm import tqdm"
   ]
  },
  {
   "cell_type": "code",
   "execution_count": 2,
   "id": "1959a435-aecb-4c29-9e0e-86f48847fae9",
   "metadata": {},
   "outputs": [],
   "source": [
    "sys.path.append('../src/')\n",
    "import h5_utils\n",
    "from train import drop_target_nan"
   ]
  },
  {
   "cell_type": "markdown",
   "id": "17c9699d-8caf-4b7c-8987-e7b7f764da02",
   "metadata": {},
   "source": [
    "# Configs"
   ]
  },
  {
   "cell_type": "code",
   "execution_count": 8,
   "id": "86233d9e-c714-4c4c-aa90-81a8d2dd9e1e",
   "metadata": {},
   "outputs": [],
   "source": [
    "settings_path = '../configs/settings.json'\n",
    "with open(settings_path, 'r') as f:\n",
    "    config = json.load(f)"
   ]
  },
  {
   "cell_type": "code",
   "execution_count": 9,
   "id": "1ec2ef4f-01ae-482f-a987-77b731b29afd",
   "metadata": {},
   "outputs": [],
   "source": [
    "folder_daily_h5 = f\"../{config['RAW_DATA_DIR']}/daily/\"\n",
    "\n",
    "metadata_filename = 'metadata.h5'\n",
    "metadata_filepath = f\"../{config['RAW_DATA_DIR']}/{metadata_filename}\"\n",
    "\n",
    "optuna_all_feat_filename = 'optuna_all_sliding.pkl'\n",
    "optuna_all_feat_filenpath = f\"../{config['RAW_DATA_DIR']}/{optuna_all_feat_filename}\""
   ]
  },
  {
   "cell_type": "code",
   "execution_count": 10,
   "id": "044abed4-f0d0-453f-93ab-c95726f7a9de",
   "metadata": {},
   "outputs": [],
   "source": [
    "DAY_TEST_START = 400 # train size in day terms"
   ]
  },
  {
   "cell_type": "markdown",
   "id": "73c6a905-2d46-45c4-9307-a4b5d0ae127c",
   "metadata": {},
   "source": [
    "# Daily load trick"
   ]
  },
  {
   "cell_type": "code",
   "execution_count": 11,
   "id": "6cc20fe2-e330-43fb-87fe-b0ab472e49ae",
   "metadata": {},
   "outputs": [
    {
     "data": {
      "text/plain": [
       "481"
      ]
     },
     "execution_count": 11,
     "metadata": {},
     "output_type": "execute_result"
    }
   ],
   "source": [
    "date_ids = h5_utils.load_metadata(metadata_filepath)\n",
    "len(date_ids)"
   ]
  },
  {
   "cell_type": "markdown",
   "id": "ab5993bb-1d80-4f4f-a5a0-02553193e938",
   "metadata": {},
   "source": [
    "# Validation splits"
   ]
  },
  {
   "cell_type": "code",
   "execution_count": 7,
   "id": "785c4a9e-06c1-4f48-9982-43eff490834d",
   "metadata": {},
   "outputs": [],
   "source": [
    "max_train_size = 70\n",
    "slide_step= max_train_size\n",
    "n_samples=len(date_ids)"
   ]
  },
  {
   "cell_type": "markdown",
   "id": "0f46495f-fb39-4ed2-bc37-6bb59e90cc81",
   "metadata": {},
   "source": [
    "effective_train_size = max_train_size + gap\n",
    "n_splits = (n_samples - test_size) // (effective_train_size + test_size) + 1\n",
    "print(n_splits)\n",
    "tscv = TimeSeriesSplit(n_splits=n_splits,\n",
    "                max_train_size=max_train_size, \n",
    "                test_size=test_size, \n",
    "                gap=gap)\n"
   ]
  },
  {
   "cell_type": "code",
   "execution_count": 8,
   "id": "18e06c3a-d3a8-4d3b-a62d-c4dc5fd570c6",
   "metadata": {},
   "outputs": [],
   "source": [
    "class SlidingWindowSplit:\n",
    "    def __init__(self, \n",
    "                 data, \n",
    "                 train_days, \n",
    "                 #test_days, \n",
    "                 slide_step=1):\n",
    "        self.data = data\n",
    "        self.train_days = train_days\n",
    "        self.slide_step = slide_step\n",
    "\n",
    "    def __iter__(self):\n",
    "        for i in range(self.train_days, len(self.data) + 1, self.slide_step):\n",
    "            yield np.arange(i - self.train_days, i)\n",
    "\n",
    "    def __len__(self):\n",
    "        return (len(self.data) - self.train_days + 1) // self.slide_step"
   ]
  },
  {
   "cell_type": "code",
   "execution_count": 9,
   "id": "5c4317c3-6ae6-4266-8cf9-0aca2a71d6ba",
   "metadata": {},
   "outputs": [],
   "source": [
    "batch_ids = SlidingWindowSplit(date_ids, \n",
    "                       max_train_size, \n",
    "                       slide_step)"
   ]
  },
  {
   "cell_type": "code",
   "execution_count": null,
   "id": "5771cb67-a175-40e9-b85f-d32c1bb5dfc0",
   "metadata": {
    "scrolled": true
   },
   "outputs": [],
   "source": [
    "for i, train_index in enumerate(tqdm(batch_ids, \n",
    "                                    desc=\"Training and Validation\")):\n",
    "    \n",
    "    print(f\"Batch {i}:\")\n",
    "    print(f\"  Train: index={train_index}\")"
   ]
  },
  {
   "cell_type": "markdown",
   "id": "70452b9e-21b9-4fad-8527-4ccb96310825",
   "metadata": {},
   "source": [
    "# Intermediate optuna on Catboost for feature selection"
   ]
  },
  {
   "cell_type": "markdown",
   "id": "710a4edf-393d-4baf-bd90-5e141f7c9574",
   "metadata": {},
   "source": [
    "## Trial"
   ]
  },
  {
   "cell_type": "code",
   "execution_count": 12,
   "id": "c09ff967-3976-42cf-af61-93e725d28ba0",
   "metadata": {},
   "outputs": [],
   "source": [
    "def params_catboost(trial):\n",
    "    \n",
    "    param = {\n",
    "        \"loss_function\" : \"MAE\",\n",
    "        \"eval_metric\" : \"MAE\",\n",
    "        \"iterations\" : 1000,  \n",
    "        #\"used_ram_limit\": \"14gb\",\n",
    "        #\"learning_rate\": trial.suggest_float(\"learning_rate\", \n",
    "        #                              0.2, 0.9), # will optimize it later, catboost has good inner mechanism of choice\n",
    "        \"depth\": trial.suggest_int(\"depth\", 5, 10),\n",
    "        \"l2_leaf_reg\": trial.suggest_int(\"l2_leaf_reg\", \n",
    "                                      3, 50),\n",
    "        \"bootstrap_type\": trial.suggest_categorical(\"bootstrap_type\", \n",
    "                             [\"Bayesian\", \"Bernoulli\", \"MVS\"])\n",
    "    }\n",
    "\n",
    "    if param[\"bootstrap_type\"] == \"Bayesian\":\n",
    "        param[\"bagging_temperature\"] = trial.suggest_float(\"bagging_temperature\", \n",
    "                                                 1, 20)\n",
    "        \n",
    "    elif param[\"bootstrap_type\"] == \"Bernoulli\":\n",
    "        param[\"subsample\"] = trial.suggest_float(\"subsample\", \n",
    "                                         0.1, 0.8)\n",
    "    return param"
   ]
  },
  {
   "cell_type": "code",
   "execution_count": 13,
   "id": "7ed66b73-c131-402b-a1c9-231c65be80a7",
   "metadata": {},
   "outputs": [],
   "source": [
    "def batch_learning(param, train_ids):\n",
    "    '''All the data with such number of features can't fit in memory so we will update model by batches learning'''\n",
    "    batches = SlidingWindowSplit(train_ids, \n",
    "                           max_train_size, \n",
    "                           slide_step)\n",
    "\n",
    "    model_prev = None\n",
    "\n",
    "    for batch_ind in tqdm(batches, desc=\"Batch training:\"):\n",
    "        batch_train_days = date_ids[batch_ind]\n",
    "        \n",
    "        # Load training data\n",
    "        train_data, train_labels = h5_utils.stacked_daily_data(batch_train_days,\n",
    "                                                              folder_daily_h5)\n",
    "\n",
    "        # Preprocess\n",
    "        ## Target handle NaNs\n",
    "        train_data, train_labels = drop_target_nan(train_data, \n",
    "                                                   train_labels)\n",
    "\n",
    "        batch = Pool(train_data, \n",
    "                     label=train_labels)\n",
    "\n",
    "        model_new = CatBoostRegressor(**param, thread_count=-1, random_seed=42)\n",
    "        if model_prev is None:\n",
    "            model_new.fit(X=batch, verbose=1)\n",
    "            model_prev = model_new\n",
    "        else:\n",
    "            # https://catboost.ai/en/docs/concepts/python-usages-examples#batch-training\n",
    "            batch.set_baseline(model_prev.predict(batch))\n",
    "            model_new.fit(X=batch, verbose=0)\n",
    "            model_prev = sum_models([model_prev,model_new])\n",
    "        \n",
    "    return model_prev"
   ]
  },
  {
   "cell_type": "code",
   "execution_count": 14,
   "id": "d75b15b2-a03d-4f89-81dc-c2dd8e4634e4",
   "metadata": {},
   "outputs": [],
   "source": [
    "def objective(trial):\n",
    "    # CV\n",
    "    train_ids = date_ids[:DAY_TEST_START]\n",
    "    test_ids = date_ids[DAY_TEST_START:]\n",
    "    \n",
    "    param = params_catboost(trial)\n",
    "    # Train\n",
    "    final_model = batch_learning(param, train_ids)\n",
    "\n",
    "    # Score\n",
    "    ## Load validation data\n",
    "    valid_data, valid_labels = h5_utils.stacked_daily_data(test_ids,\n",
    "                                                          folder_daily_h5)\n",
    "    ## NaN in target is not scored by the rules\n",
    "    valid_data, valid_labels = drop_target_nan(valid_data, \n",
    "                                               valid_labels)\n",
    "    valid_preds = final_model.predict(valid_data)\n",
    "    ## Calculate metric\n",
    "    mae = mean_absolute_error(valid_labels, valid_preds)\n",
    "    return mae"
   ]
  },
  {
   "cell_type": "markdown",
   "id": "17555e8c-320b-4bd3-be38-ddcf831c7e80",
   "metadata": {},
   "source": [
    "## Search"
   ]
  },
  {
   "cell_type": "code",
   "execution_count": null,
   "id": "f3bc893f-f312-4408-b39d-81e689b2d27c",
   "metadata": {
    "scrolled": true
   },
   "outputs": [
    {
     "name": "stderr",
     "output_type": "stream",
     "text": [
      "Batch training::  50%|█████     | 2/4 [19:46<19:44, 592.18s/it]"
     ]
    }
   ],
   "source": [
    "%%time\n",
    "\n",
    "hours = 10\n",
    "\n",
    "study = optuna.create_study(direction='minimize',\n",
    "                pruner=optuna.pruners.MedianPruner(n_warmup_steps=5))\n",
    "study.optimize(objective, \n",
    "               n_trials=120,\n",
    "               timeout = 60*60*hours\n",
    "              )\n",
    "print('Number of finished trials:', len(study.trials))\n",
    "print('Best trial:', study.best_trial.params)"
   ]
  },
  {
   "cell_type": "code",
   "execution_count": 20,
   "id": "cf6be73f-7ba7-4166-968b-560b93634363",
   "metadata": {},
   "outputs": [
    {
     "name": "stdout",
     "output_type": "stream",
     "text": [
      "Best trial: score 0.6486779503958122, params {'depth': 8, 'l2_leaf_reg': 22, 'bootstrap_type': 'Bernoulli', 'subsample': 0.7294503489264281}\n"
     ]
    }
   ],
   "source": [
    "print(\"Best trial: score {}, params {}\".format(study.best_trial.value, \n",
    "\t\t\t\t\t       study.best_trial.params))"
   ]
  },
  {
   "cell_type": "code",
   "execution_count": 21,
   "id": "4cf23b37-775e-4e71-b4b2-86a876e19df9",
   "metadata": {},
   "outputs": [
    {
     "data": {
      "text/plain": [
       "5"
      ]
     },
     "execution_count": 21,
     "metadata": {},
     "output_type": "execute_result"
    }
   ],
   "source": [
    "len(study.trials)"
   ]
  },
  {
   "cell_type": "markdown",
   "id": "ab5e8c47-b996-4446-b524-5cf1d0b6e090",
   "metadata": {},
   "source": [
    "## Store study (optional)"
   ]
  },
  {
   "cell_type": "code",
   "execution_count": null,
   "id": "80b44a60-18ed-4069-8c7d-83a5a45175c7",
   "metadata": {},
   "outputs": [],
   "source": [
    "joblib.dump(study, optuna_all_feat_filenpath)"
   ]
  },
  {
   "cell_type": "markdown",
   "id": "27132162-f84d-4b8d-9f05-0af074d62bc9",
   "metadata": {},
   "source": [
    "## Observe hyper importances"
   ]
  },
  {
   "cell_type": "code",
   "execution_count": 10,
   "id": "74441e8a-9d2d-4efd-bfa8-c78d2595fb1e",
   "metadata": {},
   "outputs": [],
   "source": [
    "study = joblib.load(optuna_all_feat_filenpath)"
   ]
  },
  {
   "cell_type": "markdown",
   "id": "2e680a4c-d82f-4c1d-a4e8-f7ae3310e237",
   "metadata": {},
   "source": [
    "optuna.visualization.plot_param_importances(study)"
   ]
  },
  {
   "cell_type": "code",
   "execution_count": 15,
   "id": "5cc19280-5c09-4b14-bed3-42aaab62dc79",
   "metadata": {
    "scrolled": true
   },
   "outputs": [
    {
     "data": {
      "image/png": "[encoded data removed]",
      "text/plain": [
       "<Figure size 1000x500 with 1 Axes>"
      ]
     },
     "metadata": {},
     "output_type": "display_data"
    }
   ],
   "source": [
    "# Get parameter importances\n",
    "param_importances = optuna.importance.get_param_importances(study)\n",
    "\n",
    "# Prepare data for visualization\n",
    "names = list(param_importances.keys())\n",
    "values = list(param_importances.values())\n",
    "\n",
    "# Create bar plot\n",
    "plt.figure(figsize=(10, 5))\n",
    "plt.barh(names, values, color='blue')\n",
    "plt.xlabel('Importance')\n",
    "plt.title('Parameter Importances')\n",
    "plt.gca().invert_yaxis()  # Invert y-axis to display the highest importance at the top\n",
    "plt.show()"
   ]
  },
  {
   "cell_type": "markdown",
   "id": "188cfa3f-bf9c-4dc4-bdb0-e174232ab6c8",
   "metadata": {},
   "source": [
    "# Selection"
   ]
  },
  {
   "cell_type": "markdown",
   "id": "2fd94c80-cb04-4796-a70b-460c26450406",
   "metadata": {},
   "source": [
    "300 features\n",
    "1) exprimentaly can be fited on kaggle as one batch\n",
    "2) can satify time limit to be retrained multiple times during test inference"
   ]
  },
  {
   "cell_type": "markdown",
   "id": "623b74f1-bbd0-4850-958e-ee21d8758894",
   "metadata": {},
   "source": [
    "## Best model fit"
   ]
  },
  {
   "cell_type": "code",
   "execution_count": 67,
   "id": "ff1ea6f6-a5de-4c40-9046-e95e73eb8b02",
   "metadata": {},
   "outputs": [
    {
     "data": {
      "text/plain": [
       "0"
      ]
     },
     "execution_count": 67,
     "metadata": {},
     "output_type": "execute_result"
    }
   ],
   "source": [
    "gc.collect()"
   ]
  },
  {
   "cell_type": "code",
   "execution_count": null,
   "id": "b64a46de-4a31-49d9-81e3-e63ef75f7d27",
   "metadata": {
    "scrolled": true
   },
   "outputs": [],
   "source": [
    "%%time\n",
    "data_train = date_ids[:DAY_TEST_START]\n",
    "best_model = batch_learning(study.best_trial.params,\n",
    "                            data_train)"
   ]
  },
  {
   "cell_type": "markdown",
   "id": "d04f9a75-9354-4ec0-90b9-93ed8f33f726",
   "metadata": {},
   "source": [
    "## Store best on all features (optional)"
   ]
  },
  {
   "cell_type": "code",
   "execution_count": 59,
   "id": "730e9038-89dc-4231-832b-31443fa52157",
   "metadata": {},
   "outputs": [],
   "source": [
    "best_model.save_model('Batched_all_feats_444',\n",
    "           format=\"cbm\")"
   ]
  },
  {
   "cell_type": "markdown",
   "id": "bc46495a-6a1e-446c-be3c-6bc8731a445b",
   "metadata": {},
   "source": [
    "## Catboost importance approach"
   ]
  },
  {
   "cell_type": "code",
   "execution_count": 4,
   "id": "507a2aa8-9c82-4849-af7d-66541415af4f",
   "metadata": {},
   "outputs": [],
   "source": [
    "feature_importance_catboost2 = best_model.get_feature_importance(type=EFstrType.FeatureImportance, \n",
    "\t\t\t\t   prettified=True, \n",
    "\t\t\t\t   thread_count=-1, \n",
    "\t\t\t\t   verbose=True)"
   ]
  },
  {
   "cell_type": "code",
   "execution_count": 5,
   "id": "5bf7c3a5-23ba-4e5d-96a6-b1f36fa159a2",
   "metadata": {},
   "outputs": [
    {
     "data": {
      "text/html": [
       "<div>\n",
       "<style scoped>\n",
       "    .dataframe tbody tr th:only-of-type {\n",
       "        vertical-align: middle;\n",
       "    }\n",
       "\n",
       "    .dataframe tbody tr th {\n",
       "        vertical-align: top;\n",
       "    }\n",
       "\n",
       "    .dataframe thead th {\n",
       "        text-align: right;\n",
       "    }\n",
       "</style>\n",
       "<table border=\"1\" class=\"dataframe\">\n",
       "  <thead>\n",
       "    <tr style=\"text-align: right;\">\n",
       "      <th></th>\n",
       "      <th>Feature Id</th>\n",
       "      <th>Importances</th>\n",
       "    </tr>\n",
       "  </thead>\n",
       "  <tbody>\n",
       "    <tr>\n",
       "      <th>0</th>\n",
       "      <td>417</td>\n",
       "      <td>45.573726</td>\n",
       "    </tr>\n",
       "    <tr>\n",
       "      <th>1</th>\n",
       "      <td>422</td>\n",
       "      <td>10.172564</td>\n",
       "    </tr>\n",
       "    <tr>\n",
       "      <th>2</th>\n",
       "      <td>440</td>\n",
       "      <td>5.515918</td>\n",
       "    </tr>\n",
       "    <tr>\n",
       "      <th>3</th>\n",
       "      <td>191</td>\n",
       "      <td>4.313303</td>\n",
       "    </tr>\n",
       "    <tr>\n",
       "      <th>4</th>\n",
       "      <td>442</td>\n",
       "      <td>3.461714</td>\n",
       "    </tr>\n",
       "    <tr>\n",
       "      <th>...</th>\n",
       "      <td>...</td>\n",
       "      <td>...</td>\n",
       "    </tr>\n",
       "    <tr>\n",
       "      <th>438</th>\n",
       "      <td>181</td>\n",
       "      <td>0.001182</td>\n",
       "    </tr>\n",
       "    <tr>\n",
       "      <th>439</th>\n",
       "      <td>185</td>\n",
       "      <td>0.000999</td>\n",
       "    </tr>\n",
       "    <tr>\n",
       "      <th>440</th>\n",
       "      <td>184</td>\n",
       "      <td>0.000941</td>\n",
       "    </tr>\n",
       "    <tr>\n",
       "      <th>441</th>\n",
       "      <td>75</td>\n",
       "      <td>0.000112</td>\n",
       "    </tr>\n",
       "    <tr>\n",
       "      <th>442</th>\n",
       "      <td>374</td>\n",
       "      <td>0.000104</td>\n",
       "    </tr>\n",
       "  </tbody>\n",
       "</table>\n",
       "<p>443 rows × 2 columns</p>\n",
       "</div>"
      ],
      "text/plain": [
       "    Feature Id  Importances\n",
       "0          417    45.573726\n",
       "1          422    10.172564\n",
       "2          440     5.515918\n",
       "3          191     4.313303\n",
       "4          442     3.461714\n",
       "..         ...          ...\n",
       "438        181     0.001182\n",
       "439        185     0.000999\n",
       "440        184     0.000941\n",
       "441         75     0.000112\n",
       "442        374     0.000104\n",
       "\n",
       "[443 rows x 2 columns]"
      ]
     },
     "execution_count": 5,
     "metadata": {},
     "output_type": "execute_result"
    }
   ],
   "source": [
    "feature_importance_catboost2"
   ]
  },
  {
   "cell_type": "markdown",
   "id": "2a1fd824-7673-4a55-8883-e5ef73aff67a",
   "metadata": {},
   "source": [
    "## Feature names from h5"
   ]
  },
  {
   "cell_type": "code",
   "execution_count": 12,
   "id": "dcc1149c-b7c3-4c7f-94d8-52f452fe0c09",
   "metadata": {},
   "outputs": [],
   "source": [
    "date_id=date_ids[-1]\n",
    "filepath=f'{folder_daily_h5}/{date_id}.h5'\n",
    "with h5py.File(filepath, 'r') as f:\n",
    "    # Load the target column\n",
    "    target = f['data']['target'][:]\n",
    "\n",
    "    features_group = f['data']['features']\n",
    "    feature_names = list(features_group.keys())"
   ]
  },
  {
   "cell_type": "code",
   "execution_count": 13,
   "id": "362e632f-bc6e-4cda-b0ca-fd22bda8478c",
   "metadata": {
    "scrolled": true
   },
   "outputs": [
    {
     "data": {
      "text/plain": [
       "['ask_auc_money',\n",
       " 'ask_money',\n",
       " 'ask_price',\n",
       " 'ask_price_diff_1',\n",
       " 'ask_price_diff_10']"
      ]
     },
     "execution_count": 13,
     "metadata": {},
     "output_type": "execute_result"
    }
   ],
   "source": [
    "feature_names[:5]"
   ]
  },
  {
   "cell_type": "markdown",
   "id": "cb31c6a9-91bc-44b1-9b34-775901c8dea6",
   "metadata": {},
   "source": [
    "## Bar plot of top n"
   ]
  },
  {
   "cell_type": "code",
   "execution_count": 16,
   "id": "20394561-2600-4ba5-b61d-14235d69d3cb",
   "metadata": {
    "scrolled": true
   },
   "outputs": [
    {
     "data": {
      "text/html": [
       "<div>\n",
       "<style scoped>\n",
       "    .dataframe tbody tr th:only-of-type {\n",
       "        vertical-align: middle;\n",
       "    }\n",
       "\n",
       "    .dataframe tbody tr th {\n",
       "        vertical-align: top;\n",
       "    }\n",
       "\n",
       "    .dataframe thead th {\n",
       "        text-align: right;\n",
       "    }\n",
       "</style>\n",
       "<table border=\"1\" class=\"dataframe\">\n",
       "  <thead>\n",
       "    <tr style=\"text-align: right;\">\n",
       "      <th></th>\n",
       "      <th>Feature Id</th>\n",
       "      <th>Importances</th>\n",
       "      <th>Feature</th>\n",
       "    </tr>\n",
       "  </thead>\n",
       "  <tbody>\n",
       "    <tr>\n",
       "      <th>0</th>\n",
       "      <td>417</td>\n",
       "      <td>45.573726</td>\n",
       "      <td>target_mock</td>\n",
       "    </tr>\n",
       "    <tr>\n",
       "      <th>1</th>\n",
       "      <td>422</td>\n",
       "      <td>10.172564</td>\n",
       "      <td>target_single</td>\n",
       "    </tr>\n",
       "    <tr>\n",
       "      <th>2</th>\n",
       "      <td>440</td>\n",
       "      <td>5.515918</td>\n",
       "      <td>wap_shift_n6</td>\n",
       "    </tr>\n",
       "    <tr>\n",
       "      <th>3</th>\n",
       "      <td>191</td>\n",
       "      <td>4.313303</td>\n",
       "      <td>index_target_mock</td>\n",
       "    </tr>\n",
       "    <tr>\n",
       "      <th>4</th>\n",
       "      <td>442</td>\n",
       "      <td>3.461714</td>\n",
       "      <td>weight_tmp</td>\n",
       "    </tr>\n",
       "    <tr>\n",
       "      <th>5</th>\n",
       "      <td>393</td>\n",
       "      <td>1.865730</td>\n",
       "      <td>seconds_in_bucket</td>\n",
       "    </tr>\n",
       "    <tr>\n",
       "      <th>6</th>\n",
       "      <td>439</td>\n",
       "      <td>1.397131</td>\n",
       "      <td>wap_shift_n3</td>\n",
       "    </tr>\n",
       "    <tr>\n",
       "      <th>7</th>\n",
       "      <td>145</td>\n",
       "      <td>0.751377</td>\n",
       "      <td>global_rolling18_mean_imb1_reference_price_wap</td>\n",
       "    </tr>\n",
       "    <tr>\n",
       "      <th>8</th>\n",
       "      <td>428</td>\n",
       "      <td>0.660389</td>\n",
       "      <td>wap</td>\n",
       "    </tr>\n",
       "    <tr>\n",
       "      <th>9</th>\n",
       "      <td>391</td>\n",
       "      <td>0.509950</td>\n",
       "      <td>scale_imbalance_size</td>\n",
       "    </tr>\n",
       "    <tr>\n",
       "      <th>10</th>\n",
       "      <td>416</td>\n",
       "      <td>0.508197</td>\n",
       "      <td>stock_id</td>\n",
       "    </tr>\n",
       "    <tr>\n",
       "      <th>11</th>\n",
       "      <td>146</td>\n",
       "      <td>0.481616</td>\n",
       "      <td>global_rolling48_mean_target_mock_shift6</td>\n",
       "    </tr>\n",
       "    <tr>\n",
       "      <th>12</th>\n",
       "      <td>394</td>\n",
       "      <td>0.381346</td>\n",
       "      <td>seconds_in_bucket_group</td>\n",
       "    </tr>\n",
       "    <tr>\n",
       "      <th>13</th>\n",
       "      <td>437</td>\n",
       "      <td>0.374136</td>\n",
       "      <td>wap_shift_n1</td>\n",
       "    </tr>\n",
       "    <tr>\n",
       "      <th>14</th>\n",
       "      <td>2</td>\n",
       "      <td>0.359632</td>\n",
       "      <td>ask_price</td>\n",
       "    </tr>\n",
       "  </tbody>\n",
       "</table>\n",
       "</div>"
      ],
      "text/plain": [
       "   Feature Id  Importances                                         Feature\n",
       "0         417    45.573726                                     target_mock\n",
       "1         422    10.172564                                   target_single\n",
       "2         440     5.515918                                    wap_shift_n6\n",
       "3         191     4.313303                               index_target_mock\n",
       "4         442     3.461714                                      weight_tmp\n",
       "5         393     1.865730                               seconds_in_bucket\n",
       "6         439     1.397131                                    wap_shift_n3\n",
       "7         145     0.751377  global_rolling18_mean_imb1_reference_price_wap\n",
       "8         428     0.660389                                             wap\n",
       "9         391     0.509950                            scale_imbalance_size\n",
       "10        416     0.508197                                        stock_id\n",
       "11        146     0.481616        global_rolling48_mean_target_mock_shift6\n",
       "12        394     0.381346                         seconds_in_bucket_group\n",
       "13        437     0.374136                                    wap_shift_n1\n",
       "14          2     0.359632                                       ask_price"
      ]
     },
     "execution_count": 16,
     "metadata": {},
     "output_type": "execute_result"
    }
   ],
   "source": [
    "feature_id_to_name = {str(id): name for id, name in enumerate(feature_names)}\n",
    "\n",
    "feature_importance_catboost2['Feature'] = feature_importance_catboost2['Feature Id'].map(feature_id_to_name)\n",
    "\n",
    "top_n = 15\n",
    "top_features = feature_importance_catboost2.head(top_n)\n",
    "top_features"
   ]
  },
  {
   "cell_type": "code",
   "execution_count": 17,
   "id": "f5a7d5a3-4943-4ecd-9005-88aea1734a9b",
   "metadata": {},
   "outputs": [
    {
     "data": {
      "image/png": "[encoded data removed]",
      "text/plain": [
       "<Figure size 1000x1600 with 1 Axes>"
      ]
     },
     "metadata": {},
     "output_type": "display_data"
    }
   ],
   "source": [
    "ax = top_features.plot(kind='barh', \n",
    "                       x='Feature', \n",
    "                       y='Importances', \n",
    "                       figsize=(10, 16), \n",
    "                       legend=False)\n",
    "\n",
    "plt.gca().invert_yaxis()\n",
    "\n",
    "plt.title('Feature Importances')\n",
    "plt.xlabel('Importance')\n",
    "plt.ylabel('Feature')\n",
    "plt.show()"
   ]
  },
  {
   "cell_type": "markdown",
   "id": "ab986f6d-7ba1-4ba8-887c-187cc2135b08",
   "metadata": {},
   "source": [
    "Seconds in bucket group is one of the top-15 features"
   ]
  },
  {
   "cell_type": "code",
   "execution_count": 61,
   "id": "666f78bc-c6cc-420d-8e9c-222e5e0d5e98",
   "metadata": {},
   "outputs": [
    {
     "data": {
      "text/plain": [
       "['target_mock',\n",
       " 'target_single',\n",
       " 'wap_shift_n6',\n",
       " 'index_target_mock',\n",
       " 'weight_tmp']"
      ]
     },
     "execution_count": 61,
     "metadata": {},
     "output_type": "execute_result"
    }
   ],
   "source": [
    "top_features = feature_importance_catboost2.head(300)\n",
    "top_feature_names = top_features['Feature'].tolist()\n",
    "\n",
    "top_feature_names[:5]"
   ]
  },
  {
   "cell_type": "code",
   "execution_count": 62,
   "id": "d75cd141-cc22-4558-8147-883350a21671",
   "metadata": {},
   "outputs": [
    {
     "data": {
      "text/plain": [
       "300"
      ]
     },
     "execution_count": 62,
     "metadata": {},
     "output_type": "execute_result"
    }
   ],
   "source": [
    "len(top_feature_names)"
   ]
  },
  {
   "cell_type": "code",
   "execution_count": 66,
   "id": "be2ecb22-cbb1-49ac-8153-63a4aaebd1fd",
   "metadata": {},
   "outputs": [],
   "source": [
    "with open(f\"../{config['MODEL_DIR']}/top_300_feats_nms.pkl\", 'wb') as f:\n",
    "    pickle.dump(top_feature_names, f)"
   ]
  },
  {
   "cell_type": "code",
   "execution_count": null,
   "id": "0b3b0f8a-7f97-4ee9-b27c-ca3db390570f",
   "metadata": {},
   "outputs": [],
   "source": []
  }
 ],
 "metadata": {
  "kernelspec": {
   "display_name": "Python [conda env:boosting_mle]",
   "language": "python",
   "name": "conda-env-boosting_mle-py"
  },
  "language_info": {
   "codemirror_mode": {
    "name": "ipython",
    "version": 3
   },
   "file_extension": ".py",
   "mimetype": "text/x-python",
   "name": "python",
   "nbconvert_exporter": "python",
   "pygments_lexer": "ipython3",
   "version": "3.11.9"
  }
 },
 "nbformat": 4,
 "nbformat_minor": 5
}
