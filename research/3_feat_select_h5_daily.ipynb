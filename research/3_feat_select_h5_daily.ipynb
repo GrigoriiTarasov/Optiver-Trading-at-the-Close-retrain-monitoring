{
 "cells": [
  {
   "cell_type": "markdown",
   "id": "8f2b103a-1f09-486a-92f6-47c2eeba97c0",
   "metadata": {},
   "source": [
    "# Imports"
   ]
  },
  {
   "cell_type": "code",
   "execution_count": 1,
   "id": "77e57da0-b4e5-41b3-93b4-96eac24b8d01",
   "metadata": {},
   "outputs": [
    {
     "name": "stderr",
     "output_type": "stream",
     "text": [
      "/home/t3600/mambaforge/envs/boosting_mle/lib/python3.11/site-packages/paramiko/transport.py:219: CryptographyDeprecationWarning: Blowfish has been deprecated and will be removed in a future release\n",
      "  \"class\": algorithms.Blowfish,\n",
      "/home/t3600/mambaforge/envs/boosting_mle/lib/python3.11/site-packages/tqdm/auto.py:21: TqdmWarning: IProgress not found. Please update jupyter and ipywidgets. See https://ipywidgets.readthedocs.io/en/stable/user_install.html\n",
      "  from .autonotebook import tqdm as notebook_tqdm\n"
     ]
    }
   ],
   "source": [
    "from catboost import CatBoostRegressor, EFstrType, Pool, sum_models\n",
    "import h5py\n",
    "import json\n",
    "import joblib\n",
    "import mlflow\n",
    "import numpy as np\n",
    "import optuna\n",
    "import os\n",
    "import pandas as pd\n",
    "import polars as pl\n",
    "import sys\n",
    "\n",
    "from sklearn.metrics import mean_absolute_error\n",
    "\n",
    "import warnings\n",
    "warnings.filterwarnings(\"ignore\",category=DeprecationWarning)\n",
    "\n",
    "from tqdm import tqdm"
   ]
  },
  {
   "cell_type": "code",
   "execution_count": 2,
   "id": "1959a435-aecb-4c29-9e0e-86f48847fae9",
   "metadata": {},
   "outputs": [],
   "source": [
    "sys.path.append('../src/')\n",
    "import h5_utils"
   ]
  },
  {
   "cell_type": "code",
   "execution_count": 3,
   "id": "d38dcfe0-ed29-455c-91b5-5f721fa3b57f",
   "metadata": {},
   "outputs": [
    {
     "data": {
      "text/plain": [
       "<module 'h5_utils' from '/home/t3600/0_git/Optiver-Trading-at-the-Close-retrain-monitoring/research/../src/h5_utils.py'>"
      ]
     },
     "execution_count": 3,
     "metadata": {},
     "output_type": "execute_result"
    }
   ],
   "source": [
    "import importlib\n",
    "importlib.reload(h5_utils)"
   ]
  },
  {
   "cell_type": "markdown",
   "id": "17c9699d-8caf-4b7c-8987-e7b7f764da02",
   "metadata": {},
   "source": [
    "# Configs"
   ]
  },
  {
   "cell_type": "code",
   "execution_count": 4,
   "id": "86233d9e-c714-4c4c-aa90-81a8d2dd9e1e",
   "metadata": {},
   "outputs": [],
   "source": [
    "settings_path = '../configs/settings.json'\n",
    "with open(settings_path, 'r') as f:\n",
    "    config = json.load(f)"
   ]
  },
  {
   "cell_type": "code",
   "execution_count": 5,
   "id": "1ec2ef4f-01ae-482f-a987-77b731b29afd",
   "metadata": {},
   "outputs": [],
   "source": [
    "folder_daily_h5 = f\"../{config['RAW_DATA_DIR']}/daily/\"\n",
    "\n",
    "metadata_filename = 'metadata.h5'\n",
    "metadata_filepath = f\"../{config['RAW_DATA_DIR']}/{metadata_filename}\"\n",
    "\n",
    "optuna_all_feat_filename = 'optuna_all_sliding.pkl'\n",
    "optuna_all_feat_filenpath = f\"../{config['RAW_DATA_DIR']}/{optuna_all_feat_filename}\""
   ]
  },
  {
   "cell_type": "markdown",
   "id": "73c6a905-2d46-45c4-9307-a4b5d0ae127c",
   "metadata": {},
   "source": [
    "# Daily load trick"
   ]
  },
  {
   "cell_type": "code",
   "execution_count": 6,
   "id": "6cc20fe2-e330-43fb-87fe-b0ab472e49ae",
   "metadata": {},
   "outputs": [
    {
     "data": {
      "text/plain": [
       "481"
      ]
     },
     "execution_count": 6,
     "metadata": {},
     "output_type": "execute_result"
    }
   ],
   "source": [
    "date_ids = h5_utils.load_metadata(metadata_filepath)\n",
    "len(date_ids)"
   ]
  },
  {
   "cell_type": "markdown",
   "id": "ab5993bb-1d80-4f4f-a5a0-02553193e938",
   "metadata": {},
   "source": [
    "# Validation splits"
   ]
  },
  {
   "cell_type": "code",
   "execution_count": 7,
   "id": "785c4a9e-06c1-4f48-9982-43eff490834d",
   "metadata": {},
   "outputs": [],
   "source": [
    "max_train_size = 70\n",
    "slide_step= max_train_size\n",
    "n_samples=len(date_ids)"
   ]
  },
  {
   "cell_type": "markdown",
   "id": "0f46495f-fb39-4ed2-bc37-6bb59e90cc81",
   "metadata": {},
   "source": [
    "effective_train_size = max_train_size + gap\n",
    "n_splits = (n_samples - test_size) // (effective_train_size + test_size) + 1\n",
    "print(n_splits)\n",
    "tscv = TimeSeriesSplit(n_splits=n_splits,\n",
    "                max_train_size=max_train_size, \n",
    "                test_size=test_size, \n",
    "                gap=gap)\n"
   ]
  },
  {
   "cell_type": "code",
   "execution_count": 8,
   "id": "18e06c3a-d3a8-4d3b-a62d-c4dc5fd570c6",
   "metadata": {},
   "outputs": [],
   "source": [
    "class SlidingWindowSplit:\n",
    "    def __init__(self, \n",
    "                 data, \n",
    "                 train_days, \n",
    "                 #test_days, \n",
    "                 slide_step=1):\n",
    "        self.data = data\n",
    "        self.train_days = train_days\n",
    "        self.slide_step = slide_step\n",
    "\n",
    "    def __iter__(self):\n",
    "        for i in range(self.train_days, len(self.data) + 1, self.slide_step):\n",
    "            yield np.arange(i - self.train_days, i)\n",
    "\n",
    "    def __len__(self):\n",
    "        return (len(self.data) - self.train_days + 1) // self.slide_step"
   ]
  },
  {
   "cell_type": "code",
   "execution_count": 9,
   "id": "5c4317c3-6ae6-4266-8cf9-0aca2a71d6ba",
   "metadata": {},
   "outputs": [],
   "source": [
    "batch_ids = SlidingWindowSplit(date_ids, \n",
    "                       max_train_size, \n",
    "                       slide_step)"
   ]
  },
  {
   "cell_type": "code",
   "execution_count": 10,
   "id": "5771cb67-a175-40e9-b85f-d32c1bb5dfc0",
   "metadata": {
    "scrolled": true
   },
   "outputs": [
    {
     "name": "stderr",
     "output_type": "stream",
     "text": [
      "Training and Validation: 6it [00:00, 1956.30it/s]             "
     ]
    },
    {
     "name": "stdout",
     "output_type": "stream",
     "text": [
      "Batch 0:\n",
      "  Train: index=[ 0  1  2  3  4  5  6  7  8  9 10 11 12 13 14 15 16 17 18 19 20 21 22 23\n",
      " 24 25 26 27 28 29 30 31 32 33 34 35 36 37 38 39 40 41 42 43 44 45 46 47\n",
      " 48 49 50 51 52 53 54 55 56 57 58 59 60 61 62 63 64 65 66 67 68 69]\n",
      "Batch 1:\n",
      "  Train: index=[ 70  71  72  73  74  75  76  77  78  79  80  81  82  83  84  85  86  87\n",
      "  88  89  90  91  92  93  94  95  96  97  98  99 100 101 102 103 104 105\n",
      " 106 107 108 109 110 111 112 113 114 115 116 117 118 119 120 121 122 123\n",
      " 124 125 126 127 128 129 130 131 132 133 134 135 136 137 138 139]\n",
      "Batch 2:\n",
      "  Train: index=[140 141 142 143 144 145 146 147 148 149 150 151 152 153 154 155 156 157\n",
      " 158 159 160 161 162 163 164 165 166 167 168 169 170 171 172 173 174 175\n",
      " 176 177 178 179 180 181 182 183 184 185 186 187 188 189 190 191 192 193\n",
      " 194 195 196 197 198 199 200 201 202 203 204 205 206 207 208 209]\n",
      "Batch 3:\n",
      "  Train: index=[210 211 212 213 214 215 216 217 218 219 220 221 222 223 224 225 226 227\n",
      " 228 229 230 231 232 233 234 235 236 237 238 239 240 241 242 243 244 245\n",
      " 246 247 248 249 250 251 252 253 254 255 256 257 258 259 260 261 262 263\n",
      " 264 265 266 267 268 269 270 271 272 273 274 275 276 277 278 279]\n",
      "Batch 4:\n",
      "  Train: index=[280 281 282 283 284 285 286 287 288 289 290 291 292 293 294 295 296 297\n",
      " 298 299 300 301 302 303 304 305 306 307 308 309 310 311 312 313 314 315\n",
      " 316 317 318 319 320 321 322 323 324 325 326 327 328 329 330 331 332 333\n",
      " 334 335 336 337 338 339 340 341 342 343 344 345 346 347 348 349]\n",
      "Batch 5:\n",
      "  Train: index=[350 351 352 353 354 355 356 357 358 359 360 361 362 363 364 365 366 367\n",
      " 368 369 370 371 372 373 374 375 376 377 378 379 380 381 382 383 384 385\n",
      " 386 387 388 389 390 391 392 393 394 395 396 397 398 399 400 401 402 403\n",
      " 404 405 406 407 408 409 410 411 412 413 414 415 416 417 418 419]\n"
     ]
    },
    {
     "name": "stderr",
     "output_type": "stream",
     "text": [
      "\n"
     ]
    }
   ],
   "source": [
    "for i, train_index in enumerate(tqdm(batch_ids, \n",
    "                                    desc=\"Training and Validation\")):\n",
    "    \n",
    "    print(f\"Batch {i}:\")\n",
    "    print(f\"  Train: index={train_index}\")"
   ]
  },
  {
   "cell_type": "markdown",
   "id": "0e976889-53b2-48d8-878b-6e21f736627b",
   "metadata": {},
   "source": [
    "# Preprocess"
   ]
  },
  {
   "cell_type": "code",
   "execution_count": 11,
   "id": "d6e7d4f5-da48-4fd9-9dfd-ef8816f002f0",
   "metadata": {},
   "outputs": [],
   "source": [
    "def drop_target_nan(features: np.ndarray,\n",
    "                    target: np.ndarray)-> (np.ndarray, np.ndarray):\n",
    "    \n",
    "    mask = ~np.isnan(target)\n",
    "    \n",
    "    return features[mask], target[mask]"
   ]
  },
  {
   "cell_type": "markdown",
   "id": "70452b9e-21b9-4fad-8527-4ccb96310825",
   "metadata": {},
   "source": [
    "# Intermediate optuna on Catboost for feature selection"
   ]
  },
  {
   "cell_type": "markdown",
   "id": "710a4edf-393d-4baf-bd90-5e141f7c9574",
   "metadata": {},
   "source": [
    "## Trial"
   ]
  },
  {
   "cell_type": "code",
   "execution_count": 12,
   "id": "c09ff967-3976-42cf-af61-93e725d28ba0",
   "metadata": {},
   "outputs": [],
   "source": [
    "def params_catboost(trial):\n",
    "    \n",
    "    param = {\n",
    "        \"loss_function\" : \"MAE\",\n",
    "        \"eval_metric\" : \"MAE\",\n",
    "        \"iterations\" : 1000,  \n",
    "        #\"used_ram_limit\": \"14gb\",\n",
    "        #\"learning_rate\": trial.suggest_float(\"learning_rate\", \n",
    "        #                              0.2, 0.9), # will optimize it later, catboost has good inner mechanism of choice\n",
    "        \"depth\": trial.suggest_int(\"depth\", 5, 10),\n",
    "        \"l2_leaf_reg\": trial.suggest_int(\"l2_leaf_reg\", \n",
    "                                      3, 50),\n",
    "        \"bootstrap_type\": trial.suggest_categorical(\"bootstrap_type\", \n",
    "                             [\"Bayesian\", \"Bernoulli\", \"MVS\"])\n",
    "    }\n",
    "\n",
    "    if param[\"bootstrap_type\"] == \"Bayesian\":\n",
    "        param[\"bagging_temperature\"] = trial.suggest_float(\"bagging_temperature\", \n",
    "                                                 1, 20)\n",
    "        \n",
    "    elif param[\"bootstrap_type\"] == \"Bernoulli\":\n",
    "        param[\"subsample\"] = trial.suggest_float(\"subsample\", \n",
    "                                         0.1, 0.8)\n",
    "    return param"
   ]
  },
  {
   "cell_type": "code",
   "execution_count": 13,
   "id": "7ed66b73-c131-402b-a1c9-231c65be80a7",
   "metadata": {},
   "outputs": [],
   "source": [
    "def batch_learning(param, train_ids):\n",
    "    '''All the data with such number of features can't fit in memory so we will update model by batches learning'''\n",
    "    batches = SlidingWindowSplit(train_ids, \n",
    "                           max_train_size, \n",
    "                           slide_step)\n",
    "\n",
    "    model_prev = None\n",
    "\n",
    "    for batch_ind in tqdm(batches, desc=\"Batch training:\"):\n",
    "        batch_train_days = date_ids[batch_ind]\n",
    "        \n",
    "        # Load training data\n",
    "        train_data, train_labels = h5_utils.stacked_daily_data(batch_train_days,\n",
    "                                                              folder_daily_h5)\n",
    "\n",
    "        # Preprocess\n",
    "        ## Target handle NaNs\n",
    "        train_data, train_labels = drop_target_nan(train_data, \n",
    "                                                   train_labels)\n",
    "\n",
    "        batch = Pool(train_data, \n",
    "                     label=train_labels)\n",
    "\n",
    "        model_new = CatBoostRegressor(**param, thread_count=-1, random_seed=42)\n",
    "        if model_prev is None:\n",
    "            model_new.fit(X=batch, verbose=1)\n",
    "            model_prev = model_new\n",
    "        else:\n",
    "            # https://catboost.ai/en/docs/concepts/python-usages-examples#batch-training\n",
    "            batch.set_baseline(model_prev.predict(batch))\n",
    "            model_new.fit(X=batch, verbose=0)\n",
    "            model_prev = sum_models([model_prev,model_new])\n",
    "        \n",
    "    return model_prev"
   ]
  },
  {
   "cell_type": "code",
   "execution_count": 14,
   "id": "d75b15b2-a03d-4f89-81dc-c2dd8e4634e4",
   "metadata": {},
   "outputs": [],
   "source": [
    "def objective(trial):\n",
    "    # CV\n",
    "    ind_thres = 400\n",
    "    train_ids = date_ids[:ind_thres]\n",
    "    test_ids = date_ids[ind_thres:]\n",
    "    \n",
    "    param = params_catboost(trial)\n",
    "    # Train\n",
    "    final_model = batch_learning(param, train_ids)\n",
    "\n",
    "    # Score\n",
    "    ## Load validation data\n",
    "    valid_data, valid_labels = h5_utils.stacked_daily_data(test_ids,\n",
    "                                                          folder_daily_h5)\n",
    "    ## NaN in target is not scored by the rules\n",
    "    valid_data, valid_labels = drop_target_nan(valid_data, \n",
    "                                               valid_labels)\n",
    "    valid_preds = final_model.predict(valid_data)\n",
    "    ## Calculate metric\n",
    "    mae = mean_absolute_error(valid_labels, valid_preds)\n",
    "    return mae"
   ]
  },
  {
   "cell_type": "markdown",
   "id": "17555e8c-320b-4bd3-be38-ddcf831c7e80",
   "metadata": {},
   "source": [
    "## Search"
   ]
  },
  {
   "cell_type": "code",
   "execution_count": null,
   "id": "f3bc893f-f312-4408-b39d-81e689b2d27c",
   "metadata": {
    "scrolled": true
   },
   "outputs": [
    {
     "name": "stderr",
     "output_type": "stream",
     "text": [
      "[I 2024-07-08 23:37:52,262] A new study created in memory with name: no-name-917bc115-01a4-47c0-8982-ffff6e748138\n",
      "Batch training::   0%|          | 0/4 [00:00<?, ?it/s]"
     ]
    },
    {
     "name": "stdout",
     "output_type": "stream",
     "text": [
      "0:\tlearn: 5.2703207\ttotal: 560ms\tremaining: 9m 19s\n",
      "1:\tlearn: 5.1610866\ttotal: 1.05s\tremaining: 8m 43s\n",
      "2:\tlearn: 5.0565127\ttotal: 1.49s\tremaining: 8m 15s\n",
      "3:\tlearn: 4.9558247\ttotal: 1.92s\tremaining: 7m 59s\n",
      "4:\tlearn: 4.8571217\ttotal: 2.35s\tremaining: 7m 47s\n",
      "5:\tlearn: 4.7590817\ttotal: 2.78s\tremaining: 7m 40s\n",
      "6:\tlearn: 4.6654136\ttotal: 3.21s\tremaining: 7m 35s\n",
      "7:\tlearn: 4.5709732\ttotal: 3.63s\tremaining: 7m 29s\n",
      "8:\tlearn: 4.4820009\ttotal: 4.07s\tremaining: 7m 27s\n",
      "9:\tlearn: 4.3930467\ttotal: 4.51s\tremaining: 7m 26s\n",
      "10:\tlearn: 4.3075336\ttotal: 4.96s\tremaining: 7m 26s\n",
      "11:\tlearn: 4.2216027\ttotal: 5.44s\tremaining: 7m 27s\n",
      "12:\tlearn: 4.1396575\ttotal: 5.85s\tremaining: 7m 24s\n",
      "13:\tlearn: 4.0593779\ttotal: 6.29s\tremaining: 7m 23s\n",
      "14:\tlearn: 3.9818599\ttotal: 6.71s\tremaining: 7m 20s\n",
      "15:\tlearn: 3.9029971\ttotal: 7.12s\tremaining: 7m 17s\n",
      "16:\tlearn: 3.8280400\ttotal: 7.5s\tremaining: 7m 13s\n",
      "17:\tlearn: 3.7547677\ttotal: 7.96s\tremaining: 7m 14s\n",
      "18:\tlearn: 3.6820386\ttotal: 8.37s\tremaining: 7m 12s\n",
      "19:\tlearn: 3.6123418\ttotal: 8.8s\tremaining: 7m 11s\n",
      "20:\tlearn: 3.5471701\ttotal: 9.24s\tremaining: 7m 10s\n",
      "21:\tlearn: 3.4778481\ttotal: 9.64s\tremaining: 7m 8s\n",
      "22:\tlearn: 3.4124501\ttotal: 10s\tremaining: 7m 5s\n",
      "23:\tlearn: 3.3516262\ttotal: 10.4s\tremaining: 7m 4s\n",
      "24:\tlearn: 3.2882248\ttotal: 10.8s\tremaining: 7m 1s\n",
      "25:\tlearn: 3.2326339\ttotal: 11.2s\tremaining: 6m 58s\n",
      "26:\tlearn: 3.1717794\ttotal: 11.6s\tremaining: 6m 56s\n",
      "27:\tlearn: 3.1157615\ttotal: 12s\tremaining: 6m 56s\n",
      "28:\tlearn: 3.0616092\ttotal: 12.4s\tremaining: 6m 54s\n",
      "29:\tlearn: 3.0043326\ttotal: 12.8s\tremaining: 6m 54s\n",
      "30:\tlearn: 2.9479406\ttotal: 13.2s\tremaining: 6m 51s\n"
     ]
    }
   ],
   "source": [
    "%%time\n",
    "\n",
    "hours = 10\n",
    "\n",
    "study = optuna.create_study(direction='minimize',\n",
    "                pruner=optuna.pruners.MedianPruner(n_warmup_steps=5))\n",
    "study.optimize(objective, \n",
    "               n_trials=120,\n",
    "               timeout = 60*60*hours\n",
    "              )\n",
    "print('Number of finished trials:', len(study.trials))\n",
    "print('Best trial:', study.best_trial.params)"
   ]
  },
  {
   "cell_type": "code",
   "execution_count": null,
   "id": "cf6be73f-7ba7-4166-968b-560b93634363",
   "metadata": {},
   "outputs": [],
   "source": [
    "print(\"Best trial: score {}, params {}\".format(study.best_trial.value, \n",
    "\t\t\t\t\t       study.best_trial.params))"
   ]
  },
  {
   "cell_type": "code",
   "execution_count": null,
   "id": "4cf23b37-775e-4e71-b4b2-86a876e19df9",
   "metadata": {},
   "outputs": [],
   "source": [
    "len(study.trials)"
   ]
  },
  {
   "cell_type": "markdown",
   "id": "ab5e8c47-b996-4446-b524-5cf1d0b6e090",
   "metadata": {},
   "source": [
    "## Store study (optional)"
   ]
  },
  {
   "cell_type": "code",
   "execution_count": 21,
   "id": "80b44a60-18ed-4069-8c7d-83a5a45175c7",
   "metadata": {},
   "outputs": [
    {
     "data": {
      "text/plain": [
       "['.././data//optuna_all_sliding.pkl']"
      ]
     },
     "execution_count": 21,
     "metadata": {},
     "output_type": "execute_result"
    }
   ],
   "source": [
    "joblib.dump(study, optuna_all_feat_filenpath)"
   ]
  },
  {
   "cell_type": "markdown",
   "id": "27132162-f84d-4b8d-9f05-0af074d62bc9",
   "metadata": {},
   "source": [
    "## Observe hyper importances"
   ]
  },
  {
   "cell_type": "markdown",
   "id": "2e680a4c-d82f-4c1d-a4e8-f7ae3310e237",
   "metadata": {},
   "source": [
    "optuna.visualization.plot_param_importances(study)"
   ]
  },
  {
   "cell_type": "code",
   "execution_count": 22,
   "id": "5cc19280-5c09-4b14-bed3-42aaab62dc79",
   "metadata": {},
   "outputs": [
    {
     "data": {
      "image/png": "[encoded data removed]",
      "text/plain": [
       "<Figure size 1000x500 with 1 Axes>"
      ]
     },
     "metadata": {},
     "output_type": "display_data"
    }
   ],
   "source": [
    "import matplotlib.pyplot as plt\n",
    "\n",
    "# Get parameter importances\n",
    "param_importances = optuna.importance.get_param_importances(study)\n",
    "\n",
    "# Prepare data for visualization\n",
    "names = list(param_importances.keys())\n",
    "values = list(param_importances.values())\n",
    "\n",
    "# Create bar plot\n",
    "plt.figure(figsize=(10, 5))\n",
    "plt.barh(names, values, color='blue')\n",
    "plt.xlabel('Importance')\n",
    "plt.title('Parameter Importances')\n",
    "plt.gca().invert_yaxis()  # Invert y-axis to display the highest importance at the top\n",
    "plt.show()"
   ]
  },
  {
   "cell_type": "markdown",
   "id": "188cfa3f-bf9c-4dc4-bdb0-e174232ab6c8",
   "metadata": {},
   "source": [
    "# Selection"
   ]
  },
  {
   "cell_type": "markdown",
   "id": "623b74f1-bbd0-4850-958e-ee21d8758894",
   "metadata": {},
   "source": [
    "## Best model fit"
   ]
  },
  {
   "cell_type": "code",
   "execution_count": 26,
   "id": "b64a46de-4a31-49d9-81e3-e63ef75f7d27",
   "metadata": {},
   "outputs": [
    {
     "name": "stderr",
     "output_type": "stream",
     "text": [
      "Training and Validation: 14it [39:08, 167.77s/it]                        "
     ]
    },
    {
     "name": "stdout",
     "output_type": "stream",
     "text": [
      "CPU times: user 4h 27min 48s, sys: 2min 23s, total: 4h 30min 12s\n",
      "Wall time: 39min 8s\n"
     ]
    },
    {
     "name": "stderr",
     "output_type": "stream",
     "text": [
      "\n"
     ]
    }
   ],
   "source": [
    "%%time\n",
    "best_model, _, _ = batch_learning(study.best_trial.params)"
   ]
  },
  {
   "cell_type": "markdown",
   "id": "bc46495a-6a1e-446c-be3c-6bc8731a445b",
   "metadata": {},
   "source": [
    "## Catboost importance approach"
   ]
  },
  {
   "cell_type": "code",
   "execution_count": 74,
   "id": "8f7467e6-2919-411b-9f01-8793a6b040b1",
   "metadata": {},
   "outputs": [
    {
     "data": {
      "text/plain": [
       "(660000, 444)"
      ]
     },
     "execution_count": 74,
     "metadata": {},
     "output_type": "execute_result"
    }
   ],
   "source": [
    "train_data.shape"
   ]
  },
  {
   "cell_type": "code",
   "execution_count": 85,
   "id": "fb07a943-1cb3-4317-8048-d881d3ae13f5",
   "metadata": {
    "scrolled": true
   },
   "outputs": [
    {
     "data": {
      "text/plain": [
       "(660000,)"
      ]
     },
     "execution_count": 85,
     "metadata": {},
     "output_type": "execute_result"
    }
   ],
   "source": [
    "preds = best_model.predict(train_data)\n",
    "preds.shape"
   ]
  },
  {
   "cell_type": "code",
   "execution_count": 81,
   "id": "507a2aa8-9c82-4849-af7d-66541415af4f",
   "metadata": {},
   "outputs": [],
   "source": [
    "feature_importance_catboost2 = best_model.get_feature_importance(type=EFstrType.FeatureImportance, \n",
    "\t\t\t\t   prettified=True, \n",
    "\t\t\t\t   thread_count=-1, \n",
    "\t\t\t\t   verbose=True)"
   ]
  },
  {
   "cell_type": "code",
   "execution_count": 88,
   "id": "3fb2553d-c5b4-4045-96cd-440dac6f7e13",
   "metadata": {},
   "outputs": [
    {
     "data": {
      "text/plain": [
       "443"
      ]
     },
     "execution_count": 88,
     "metadata": {},
     "output_type": "execute_result"
    }
   ],
   "source": [
    "len(best_model.feature_names_)"
   ]
  },
  {
   "cell_type": "code",
   "execution_count": null,
   "id": "80f00944-b333-4ed2-8017-23110cc8d067",
   "metadata": {
    "scrolled": true
   },
   "outputs": [],
   "source": [
    "best_model.feature_names_"
   ]
  },
  {
   "cell_type": "code",
   "execution_count": 96,
   "id": "a5645b51-8145-41fd-9d76-9baf40e8e03d",
   "metadata": {},
   "outputs": [
    {
     "data": {
      "text/plain": [
       "{'443'}"
      ]
     },
     "execution_count": 96,
     "metadata": {},
     "output_type": "execute_result"
    }
   ],
   "source": [
    "set([str(nm) for nm in range(444)]).difference(set(best_model.feature_names_))"
   ]
  },
  {
   "cell_type": "code",
   "execution_count": 101,
   "id": "730e9038-89dc-4231-832b-31443fa52157",
   "metadata": {},
   "outputs": [],
   "source": [
    "best_model.save_model('Batch_val_strange_444_443',\n",
    "           format=\"cbm\",\n",
    "           export_parameters=None,\n",
    "           pool=None)"
   ]
  },
  {
   "cell_type": "code",
   "execution_count": 82,
   "id": "ee6e2b29-9cc2-4a3c-9bb4-d6ef24572027",
   "metadata": {
    "scrolled": true
   },
   "outputs": [
    {
     "data": {
      "text/plain": [
       "(443, 2)"
      ]
     },
     "execution_count": 82,
     "metadata": {},
     "output_type": "execute_result"
    }
   ],
   "source": [
    "feature_importance_catboost2.shape"
   ]
  },
  {
   "cell_type": "code",
   "execution_count": 42,
   "id": "2066c2ef-387b-4839-81fa-43ebd25bf778",
   "metadata": {},
   "outputs": [],
   "source": [
    "latest_train_ids = date_ids[-max_train_size:]\n",
    "train_data, train_labels = h5_utils.stacked_daily_data(latest_train_ids,\n",
    "                                                        folder_daily_h5)"
   ]
  },
  {
   "cell_type": "code",
   "execution_count": 60,
   "id": "7f98b514-f4fa-4ce8-a9fd-6df40c270a3c",
   "metadata": {},
   "outputs": [],
   "source": [
    "date_id=date_ids[-1]\n",
    "filepath=f'{folder_daily_h5}/{date_id}.h5'\n",
    "with h5py.File(filepath, 'r') as f:\n",
    "    # Load the target column\n",
    "    target = f['data']['target'][:]\n",
    "\n",
    "    features_group = f['data']['features']\n",
    "    feature_names = list(features_group.keys())\n",
    "feature_pool = Pool(train_data)"
   ]
  },
  {
   "cell_type": "code",
   "execution_count": null,
   "id": "362e632f-bc6e-4cda-b0ca-fd22bda8478c",
   "metadata": {
    "scrolled": true
   },
   "outputs": [],
   "source": [
    "feature_names"
   ]
  },
  {
   "cell_type": "code",
   "execution_count": 64,
   "id": "b5ed9b89-d42f-470d-9a90-489297cbea5b",
   "metadata": {},
   "outputs": [
    {
     "data": {
      "text/plain": [
       "444"
      ]
     },
     "execution_count": 64,
     "metadata": {},
     "output_type": "execute_result"
    }
   ],
   "source": [
    "len(feature_names)"
   ]
  },
  {
   "cell_type": "code",
   "execution_count": 62,
   "id": "e9a2810f-d3d7-4c75-8507-fc991d3a80ae",
   "metadata": {
    "scrolled": true
   },
   "outputs": [
    {
     "ename": "ValueError",
     "evalue": "All arrays must be of the same length",
     "output_type": "error",
     "traceback": [
      "\u001b[0;31m---------------------------------------------------------------------------\u001b[0m",
      "\u001b[0;31mValueError\u001b[0m                                Traceback (most recent call last)",
      "File \u001b[0;32m<timed exec>:1\u001b[0m\n",
      "File \u001b[0;32m~/mambaforge/envs/boosting_mle/lib/python3.11/site-packages/pandas/core/frame.py:709\u001b[0m, in \u001b[0;36mDataFrame.__init__\u001b[0;34m(self, data, index, columns, dtype, copy)\u001b[0m\n\u001b[1;32m    703\u001b[0m     mgr \u001b[38;5;241m=\u001b[39m \u001b[38;5;28mself\u001b[39m\u001b[38;5;241m.\u001b[39m_init_mgr(\n\u001b[1;32m    704\u001b[0m         data, axes\u001b[38;5;241m=\u001b[39m{\u001b[38;5;124m\"\u001b[39m\u001b[38;5;124mindex\u001b[39m\u001b[38;5;124m\"\u001b[39m: index, \u001b[38;5;124m\"\u001b[39m\u001b[38;5;124mcolumns\u001b[39m\u001b[38;5;124m\"\u001b[39m: columns}, dtype\u001b[38;5;241m=\u001b[39mdtype, copy\u001b[38;5;241m=\u001b[39mcopy\n\u001b[1;32m    705\u001b[0m     )\n\u001b[1;32m    707\u001b[0m \u001b[38;5;28;01melif\u001b[39;00m \u001b[38;5;28misinstance\u001b[39m(data, \u001b[38;5;28mdict\u001b[39m):\n\u001b[1;32m    708\u001b[0m     \u001b[38;5;66;03m# GH#38939 de facto copy defaults to False only in non-dict cases\u001b[39;00m\n\u001b[0;32m--> 709\u001b[0m     mgr \u001b[38;5;241m=\u001b[39m dict_to_mgr(data, index, columns, dtype\u001b[38;5;241m=\u001b[39mdtype, copy\u001b[38;5;241m=\u001b[39mcopy, typ\u001b[38;5;241m=\u001b[39mmanager)\n\u001b[1;32m    710\u001b[0m \u001b[38;5;28;01melif\u001b[39;00m \u001b[38;5;28misinstance\u001b[39m(data, ma\u001b[38;5;241m.\u001b[39mMaskedArray):\n\u001b[1;32m    711\u001b[0m     \u001b[38;5;28;01mfrom\u001b[39;00m \u001b[38;5;21;01mnumpy\u001b[39;00m\u001b[38;5;21;01m.\u001b[39;00m\u001b[38;5;21;01mma\u001b[39;00m \u001b[38;5;28;01mimport\u001b[39;00m mrecords\n",
      "File \u001b[0;32m~/mambaforge/envs/boosting_mle/lib/python3.11/site-packages/pandas/core/internals/construction.py:481\u001b[0m, in \u001b[0;36mdict_to_mgr\u001b[0;34m(data, index, columns, dtype, typ, copy)\u001b[0m\n\u001b[1;32m    477\u001b[0m     \u001b[38;5;28;01melse\u001b[39;00m:\n\u001b[1;32m    478\u001b[0m         \u001b[38;5;66;03m# dtype check to exclude e.g. range objects, scalars\u001b[39;00m\n\u001b[1;32m    479\u001b[0m         arrays \u001b[38;5;241m=\u001b[39m [x\u001b[38;5;241m.\u001b[39mcopy() \u001b[38;5;28;01mif\u001b[39;00m \u001b[38;5;28mhasattr\u001b[39m(x, \u001b[38;5;124m\"\u001b[39m\u001b[38;5;124mdtype\u001b[39m\u001b[38;5;124m\"\u001b[39m) \u001b[38;5;28;01melse\u001b[39;00m x \u001b[38;5;28;01mfor\u001b[39;00m x \u001b[38;5;129;01min\u001b[39;00m arrays]\n\u001b[0;32m--> 481\u001b[0m \u001b[38;5;28;01mreturn\u001b[39;00m arrays_to_mgr(arrays, columns, index, dtype\u001b[38;5;241m=\u001b[39mdtype, typ\u001b[38;5;241m=\u001b[39mtyp, consolidate\u001b[38;5;241m=\u001b[39mcopy)\n",
      "File \u001b[0;32m~/mambaforge/envs/boosting_mle/lib/python3.11/site-packages/pandas/core/internals/construction.py:115\u001b[0m, in \u001b[0;36marrays_to_mgr\u001b[0;34m(arrays, columns, index, dtype, verify_integrity, typ, consolidate)\u001b[0m\n\u001b[1;32m    112\u001b[0m \u001b[38;5;28;01mif\u001b[39;00m verify_integrity:\n\u001b[1;32m    113\u001b[0m     \u001b[38;5;66;03m# figure out the index, if necessary\u001b[39;00m\n\u001b[1;32m    114\u001b[0m     \u001b[38;5;28;01mif\u001b[39;00m index \u001b[38;5;129;01mis\u001b[39;00m \u001b[38;5;28;01mNone\u001b[39;00m:\n\u001b[0;32m--> 115\u001b[0m         index \u001b[38;5;241m=\u001b[39m _extract_index(arrays)\n\u001b[1;32m    116\u001b[0m     \u001b[38;5;28;01melse\u001b[39;00m:\n\u001b[1;32m    117\u001b[0m         index \u001b[38;5;241m=\u001b[39m ensure_index(index)\n",
      "File \u001b[0;32m~/mambaforge/envs/boosting_mle/lib/python3.11/site-packages/pandas/core/internals/construction.py:655\u001b[0m, in \u001b[0;36m_extract_index\u001b[0;34m(data)\u001b[0m\n\u001b[1;32m    653\u001b[0m lengths \u001b[38;5;241m=\u001b[39m \u001b[38;5;28mlist\u001b[39m(\u001b[38;5;28mset\u001b[39m(raw_lengths))\n\u001b[1;32m    654\u001b[0m \u001b[38;5;28;01mif\u001b[39;00m \u001b[38;5;28mlen\u001b[39m(lengths) \u001b[38;5;241m>\u001b[39m \u001b[38;5;241m1\u001b[39m:\n\u001b[0;32m--> 655\u001b[0m     \u001b[38;5;28;01mraise\u001b[39;00m \u001b[38;5;167;01mValueError\u001b[39;00m(\u001b[38;5;124m\"\u001b[39m\u001b[38;5;124mAll arrays must be of the same length\u001b[39m\u001b[38;5;124m\"\u001b[39m)\n\u001b[1;32m    657\u001b[0m \u001b[38;5;28;01mif\u001b[39;00m have_dicts:\n\u001b[1;32m    658\u001b[0m     \u001b[38;5;28;01mraise\u001b[39;00m \u001b[38;5;167;01mValueError\u001b[39;00m(\n\u001b[1;32m    659\u001b[0m         \u001b[38;5;124m\"\u001b[39m\u001b[38;5;124mMixing dicts with non-Series may lead to ambiguous ordering.\u001b[39m\u001b[38;5;124m\"\u001b[39m\n\u001b[1;32m    660\u001b[0m     )\n",
      "\u001b[0;31mValueError\u001b[0m: All arrays must be of the same length"
     ]
    }
   ],
   "source": [
    "%%time\n",
    "importance_df = pd.DataFrame({'feature_importance': feature_importance_catboost, \n",
    "                              'feature_names': feature_names}).\\\n",
    "                    sort_values(by=['feature_importance'], \n",
    "                                ascending=False)"
   ]
  },
  {
   "cell_type": "code",
   "execution_count": 65,
   "id": "4d068fab-706b-4778-868e-d966b22db71b",
   "metadata": {},
   "outputs": [
    {
     "data": {
      "text/plain": [
       "443"
      ]
     },
     "execution_count": 65,
     "metadata": {},
     "output_type": "execute_result"
    }
   ],
   "source": [
    "feature_importance_catboost = best_model.get_feature_importance(feature_pool)\n",
    "len(feature_importance_catboost)"
   ]
  }
 ],
 "metadata": {
  "kernelspec": {
   "display_name": "Python [conda env:boosting_mle]",
   "language": "python",
   "name": "conda-env-boosting_mle-py"
  },
  "language_info": {
   "codemirror_mode": {
    "name": "ipython",
    "version": 3
   },
   "file_extension": ".py",
   "mimetype": "text/x-python",
   "name": "python",
   "nbconvert_exporter": "python",
   "pygments_lexer": "ipython3",
   "version": "3.11.9"
  }
 },
 "nbformat": 4,
 "nbformat_minor": 5
}
